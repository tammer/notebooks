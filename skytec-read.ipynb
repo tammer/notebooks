{
 "cells": [
  {
   "cell_type": "code",
   "execution_count": 21,
   "metadata": {},
   "outputs": [],
   "source": [
    "import pandas as pd\n",
    "\n",
    "query_id = '432b8115-af6d-470d-818a-99651e27bd36' # Hex1\n",
    "access_url =  f's3://streambatch-data/{query_id}.parquet'\n",
    "\n",
    "ndvi_data = pd.read_parquet(access_url, storage_options={\"anon\": True})\n",
    "\n",
    "location_ids = ndvi_data.location_id.unique()\n",
    "\n",
    "\n",
    "\n",
    "# remove loction column, polygon column\n",
    "ndvi_data = ndvi_data.drop(['location', 'polygon'], axis=1)\n",
    "\n",
    "ndvi_data.head()\n",
    "\n",
    "# save as CSV\n",
    "ndvi_data.to_csv(f'output/skytec-Hex1.csv', index=False)\n",
    "\n",
    "# save as parquet\n",
    "ndvi_data.to_parquet(f'output/skytec-Hex1.parquet', index=False)\n"
   ]
  },
  {
   "cell_type": "code",
   "execution_count": 20,
   "metadata": {},
   "outputs": [],
   "source": [
    "query_id = 'a2550275-36fc-4e6a-8f5f-5adee79dae57' # Hex2\n",
    "access_url =  f's3://streambatch-data/{query_id}.parquet'\n",
    "\n",
    "df = pd.read_parquet(access_url, storage_options={\"anon\": True})\n",
    "\n",
    "location_ids = df.location_id.unique()\n",
    "\n",
    "df = df.drop(['location', 'polygon'], axis=1)\n",
    "\n",
    "df.head()\n",
    "\n",
    "# save as CSV\n",
    "df.to_csv(f'output/skytec-Hex2.csv', index=False)\n",
    "\n",
    "# save as parquet\n",
    "df.to_parquet(f'output/skytec-Hex2.parquet', index=False)\n"
   ]
  },
  {
   "cell_type": "code",
   "execution_count": null,
   "metadata": {},
   "outputs": [],
   "source": [
    "import matplotlib.pyplot as plt\n",
    "\n",
    "for location_id in location_ids[0:30]:\n",
    "    df1 = df[df['location_id'] == location_id]\n",
    "    plt.rc('font', size=20)\n",
    "    plt.scatter(df1['time'],df1['ndvi.streambatch_v2'],s=6)\n",
    "    plt.gcf().set_size_inches(20, 8)\n",
    "    ax = plt.gca()\n",
    "    ax.margins(0)\n",
    "    plt.xticks(rotation=45)\n",
    "    plt.grid(True)\n",
    "    plt.ylim(0,1)\n",
    "    plt.ylabel('NDVI')\n",
    "    plt.title('Streambatch NDVI at location_id: ' + str(location_id))\n",
    "    plt.show()"
   ]
  }
 ],
 "metadata": {
  "kernelspec": {
   "display_name": "venv",
   "language": "python",
   "name": "python3"
  },
  "language_info": {
   "codemirror_mode": {
    "name": "ipython",
    "version": 3
   },
   "file_extension": ".py",
   "mimetype": "text/x-python",
   "name": "python",
   "nbconvert_exporter": "python",
   "pygments_lexer": "ipython3",
   "version": "3.7.6"
  }
 },
 "nbformat": 4,
 "nbformat_minor": 2
}
