{
 "cells": [
  {
   "cell_type": "code",
   "execution_count": 1,
   "metadata": {},
   "outputs": [],
   "source": [
    "import sys \n",
    "import os\n",
    "sys.path.append(os.path.abspath(\"/Users/tammerkamel/dev/proj/Streambatch/src/Streambatch/\"))\n",
    "\n",
    "from module1 import StreambatchConnection"
   ]
  },
  {
   "cell_type": "code",
   "execution_count": 2,
   "metadata": {},
   "outputs": [],
   "source": [
    "some_polygon = {\n",
    "    'type': 'Polygon',\n",
    "    'coordinates': \n",
    "        [[[-94.4545917478666, 41.9792090154671], \n",
    "        [-94.4545448033213, 41.9757220431519], \n",
    "        [-94.4450066084548, 41.9757090969481], \n",
    "        [-94.4450437851949, 41.9792826686391], \n",
    "        [-94.4545917478666, 41.9792090154671]]]\n",
    "}\n",
    "\n",
    "points = [[3.940705,49.345238],[3.940705,49.345238]]"
   ]
  },
  {
   "cell_type": "code",
   "execution_count": 3,
   "metadata": {},
   "outputs": [
    {
     "name": "stdout",
     "output_type": "stream",
     "text": [
      "Query ID: 2ad331cf-351d-4dc2-958c-89de81989d47\n",
      "Source: ['ndvi.sentinel2', 'ndvi.landsat']\n",
      "Number of polygons: 1\n",
      "Start date: 2013-01-01\n",
      "End date: 2023-08-26\n",
      "Aggregation: median\n"
     ]
    }
   ],
   "source": [
    "connection = StreambatchConnection(open('key.txt').read().strip(),debug=True)\n",
    "query_id = connection.request_ndvi(polygons=[some_polygon], sources=['ndvi.savgol'])"
   ]
  },
  {
   "cell_type": "code",
   "execution_count": 4,
   "metadata": {},
   "outputs": [
    {
     "name": "stdout",
     "output_type": "stream",
     "text": [
      "\n"
     ]
    }
   ],
   "source": [
    "df = connection.get_data(query_id)"
   ]
  },
  {
   "cell_type": "code",
   "execution_count": 5,
   "metadata": {},
   "outputs": [
    {
     "data": {
      "text/html": [
       "<div>\n",
       "<style scoped>\n",
       "    .dataframe tbody tr th:only-of-type {\n",
       "        vertical-align: middle;\n",
       "    }\n",
       "\n",
       "    .dataframe tbody tr th {\n",
       "        vertical-align: top;\n",
       "    }\n",
       "\n",
       "    .dataframe thead th {\n",
       "        text-align: right;\n",
       "    }\n",
       "</style>\n",
       "<table border=\"1\" class=\"dataframe\">\n",
       "  <thead>\n",
       "    <tr style=\"text-align: right;\">\n",
       "      <th></th>\n",
       "      <th>time</th>\n",
       "      <th>location</th>\n",
       "      <th>polygon</th>\n",
       "      <th>ndvi.savgol</th>\n",
       "    </tr>\n",
       "  </thead>\n",
       "  <tbody>\n",
       "    <tr>\n",
       "      <th>0</th>\n",
       "      <td>2013-04-25</td>\n",
       "      <td>0</td>\n",
       "      <td>POLYGON ((-94.4545917478666 41.9792090154671, ...</td>\n",
       "      <td>0.215576</td>\n",
       "    </tr>\n",
       "    <tr>\n",
       "      <th>1</th>\n",
       "      <td>2013-04-26</td>\n",
       "      <td>0</td>\n",
       "      <td>POLYGON ((-94.4545917478666 41.9792090154671, ...</td>\n",
       "      <td>0.215576</td>\n",
       "    </tr>\n",
       "    <tr>\n",
       "      <th>2</th>\n",
       "      <td>2013-04-27</td>\n",
       "      <td>0</td>\n",
       "      <td>POLYGON ((-94.4545917478666 41.9792090154671, ...</td>\n",
       "      <td>0.215576</td>\n",
       "    </tr>\n",
       "    <tr>\n",
       "      <th>3</th>\n",
       "      <td>2013-04-28</td>\n",
       "      <td>0</td>\n",
       "      <td>POLYGON ((-94.4545917478666 41.9792090154671, ...</td>\n",
       "      <td>0.215576</td>\n",
       "    </tr>\n",
       "    <tr>\n",
       "      <th>4</th>\n",
       "      <td>2013-04-29</td>\n",
       "      <td>0</td>\n",
       "      <td>POLYGON ((-94.4545917478666 41.9792090154671, ...</td>\n",
       "      <td>0.215576</td>\n",
       "    </tr>\n",
       "  </tbody>\n",
       "</table>\n",
       "</div>"
      ],
      "text/plain": [
       "        time  location                                            polygon  \\\n",
       "0 2013-04-25         0  POLYGON ((-94.4545917478666 41.9792090154671, ...   \n",
       "1 2013-04-26         0  POLYGON ((-94.4545917478666 41.9792090154671, ...   \n",
       "2 2013-04-27         0  POLYGON ((-94.4545917478666 41.9792090154671, ...   \n",
       "3 2013-04-28         0  POLYGON ((-94.4545917478666 41.9792090154671, ...   \n",
       "4 2013-04-29         0  POLYGON ((-94.4545917478666 41.9792090154671, ...   \n",
       "\n",
       "   ndvi.savgol  \n",
       "0     0.215576  \n",
       "1     0.215576  \n",
       "2     0.215576  \n",
       "3     0.215576  \n",
       "4     0.215576  "
      ]
     },
     "execution_count": 5,
     "metadata": {},
     "output_type": "execute_result"
    }
   ],
   "source": [
    "df.head()"
   ]
  }
 ],
 "metadata": {
  "kernelspec": {
   "display_name": "venv",
   "language": "python",
   "name": "python3"
  },
  "language_info": {
   "codemirror_mode": {
    "name": "ipython",
    "version": 3
   },
   "file_extension": ".py",
   "mimetype": "text/x-python",
   "name": "python",
   "nbconvert_exporter": "python",
   "pygments_lexer": "ipython3",
   "version": "3.9.6"
  },
  "orig_nbformat": 4
 },
 "nbformat": 4,
 "nbformat_minor": 2
}
