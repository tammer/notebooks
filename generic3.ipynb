{
 "cells": [
  {
   "cell_type": "code",
   "execution_count": 1,
   "metadata": {},
   "outputs": [],
   "source": [
    "import sys \n",
    "import os\n",
    "sys.path.append(os.path.abspath(\"/Users/tammerkamel/dev/proj/Streambatch/src/Streambatch/\"))\n",
    "\n",
    "from module1 import StreambatchConnection"
   ]
  },
  {
   "cell_type": "code",
   "execution_count": 4,
   "metadata": {},
   "outputs": [
    {
     "name": "stdout",
     "output_type": "stream",
     "text": [
      "Query ID: 9d0f5cd7-87c5-4c84-b7f3-ef5c145d0680\n",
      "Source: ['ndvi.sentinel2']\n",
      "Number of points: 1\n",
      "Start date: 2013-01-01\n",
      "End date: 2023-08-25\n",
      "Aggregation: median\n"
     ]
    }
   ],
   "source": [
    "connection = StreambatchConnection(open('key.txt').read().strip(),debug=True)\n",
    "points = [[3.940705,49.345238]]\n",
    "query_id = connection.request_ndvi(points=points)"
   ]
  },
  {
   "cell_type": "code",
   "execution_count": 5,
   "metadata": {},
   "outputs": [
    {
     "name": "stdout",
     "output_type": "stream",
     "text": [
      "\n"
     ]
    },
    {
     "data": {
      "text/html": [
       "<div>\n",
       "<style scoped>\n",
       "    .dataframe tbody tr th:only-of-type {\n",
       "        vertical-align: middle;\n",
       "    }\n",
       "\n",
       "    .dataframe tbody tr th {\n",
       "        vertical-align: top;\n",
       "    }\n",
       "\n",
       "    .dataframe thead th {\n",
       "        text-align: right;\n",
       "    }\n",
       "</style>\n",
       "<table border=\"1\" class=\"dataframe\">\n",
       "  <thead>\n",
       "    <tr style=\"text-align: right;\">\n",
       "      <th></th>\n",
       "      <th>point</th>\n",
       "      <th>time</th>\n",
       "      <th>lat</th>\n",
       "      <th>lon</th>\n",
       "      <th>ndvi.sentinel2</th>\n",
       "      <th>qa.sentinel2</th>\n",
       "    </tr>\n",
       "  </thead>\n",
       "  <tbody>\n",
       "    <tr>\n",
       "      <th>0</th>\n",
       "      <td>0</td>\n",
       "      <td>2016-11-04</td>\n",
       "      <td>49.345238</td>\n",
       "      <td>3.940705</td>\n",
       "      <td>0.008026</td>\n",
       "      <td>0.0</td>\n",
       "    </tr>\n",
       "    <tr>\n",
       "      <th>1</th>\n",
       "      <td>0</td>\n",
       "      <td>2016-11-05</td>\n",
       "      <td>49.345238</td>\n",
       "      <td>3.940705</td>\n",
       "      <td>0.008026</td>\n",
       "      <td>0.0</td>\n",
       "    </tr>\n",
       "    <tr>\n",
       "      <th>2</th>\n",
       "      <td>0</td>\n",
       "      <td>2016-11-06</td>\n",
       "      <td>49.345238</td>\n",
       "      <td>3.940705</td>\n",
       "      <td>0.008026</td>\n",
       "      <td>0.0</td>\n",
       "    </tr>\n",
       "    <tr>\n",
       "      <th>3</th>\n",
       "      <td>0</td>\n",
       "      <td>2016-11-07</td>\n",
       "      <td>49.345238</td>\n",
       "      <td>3.940705</td>\n",
       "      <td>0.023977</td>\n",
       "      <td>0.0</td>\n",
       "    </tr>\n",
       "    <tr>\n",
       "      <th>4</th>\n",
       "      <td>0</td>\n",
       "      <td>2016-11-08</td>\n",
       "      <td>49.345238</td>\n",
       "      <td>3.940705</td>\n",
       "      <td>0.023977</td>\n",
       "      <td>0.0</td>\n",
       "    </tr>\n",
       "  </tbody>\n",
       "</table>\n",
       "</div>"
      ],
      "text/plain": [
       "   point       time        lat       lon  ndvi.sentinel2  qa.sentinel2\n",
       "0      0 2016-11-04  49.345238  3.940705        0.008026           0.0\n",
       "1      0 2016-11-05  49.345238  3.940705        0.008026           0.0\n",
       "2      0 2016-11-06  49.345238  3.940705        0.008026           0.0\n",
       "3      0 2016-11-07  49.345238  3.940705        0.023977           0.0\n",
       "4      0 2016-11-08  49.345238  3.940705        0.023977           0.0"
      ]
     },
     "execution_count": 5,
     "metadata": {},
     "output_type": "execute_result"
    }
   ],
   "source": [
    "df = connection.get_data(query_id)\n",
    "df.head()"
   ]
  }
 ],
 "metadata": {
  "kernelspec": {
   "display_name": "venv",
   "language": "python",
   "name": "python3"
  },
  "language_info": {
   "codemirror_mode": {
    "name": "ipython",
    "version": 3
   },
   "file_extension": ".py",
   "mimetype": "text/x-python",
   "name": "python",
   "nbconvert_exporter": "python",
   "pygments_lexer": "ipython3",
   "version": "3.9.6"
  },
  "orig_nbformat": 4
 },
 "nbformat": 4,
 "nbformat_minor": 2
}
