{
 "cells": [
  {
   "cell_type": "code",
   "execution_count": null,
   "metadata": {},
   "outputs": [],
   "source": [
    "from streambatch import StreambatchConnection"
   ]
  },
  {
   "cell_type": "code",
   "execution_count": null,
   "metadata": {},
   "outputs": [],
   "source": [
    "some_polygon = {\n",
    "    'type': 'Polygon',\n",
    "    'coordinates': \n",
    "        [[[-94.4545917478666, 41.9792090154671], \n",
    "        [-94.4545448033213, 41.9757220431519], \n",
    "        [-94.4450066084548, 41.9757090969481], \n",
    "        [-94.4450437851949, 41.9792826686391], \n",
    "        [-94.4545917478666, 41.9792090154671]]]\n",
    "}\n",
    "\n",
    "points = [[3.940705,49.345238]]"
   ]
  },
  {
   "cell_type": "code",
   "execution_count": null,
   "metadata": {},
   "outputs": [],
   "source": [
    "connection = StreambatchConnection(open('key.txt').read().strip())\n",
    "query_id = connection.request_ndvi( points=points, sources=['ndvi.savgol'])"
   ]
  },
  {
   "cell_type": "code",
   "execution_count": null,
   "metadata": {},
   "outputs": [],
   "source": [
    "df = connection.get_data(query_id)"
   ]
  },
  {
   "cell_type": "code",
   "execution_count": null,
   "metadata": {},
   "outputs": [],
   "source": [
    "import matplotlib.pyplot as plt\n",
    "\n",
    "# slice df for the last two years\n",
    "df1 = df[(df['time'] > '2022-01-01') & (df['time'] < '2023-12-27')]\n",
    "\n",
    "plt.figure(figsize=(30, 15))\n",
    "plt.rcParams.update({'font.size': 22})\n",
    "\n",
    "plt.scatter(df1['time'], df1['ndvi.savgol'], label='savgol', s=13)\n",
    "# plt.scatter(df1['time'], df1['ndvi.interpolated'], label='ndvi',s=13)\n",
    "plt.scatter(df1['time'], df1['ndvi.landsat'], label='landsat',s=63,color='green')\n",
    "plt.scatter(df1['time'], df1['ndvi.sentinel2'], label='sentinel-2',s=63,color='red')\n",
    "\n",
    "plt.grid(True)\n",
    "plt.ylim(0, 1.)\n",
    "\n",
    "plt.xlabel('time')\n",
    "plt.ylabel('ndvi')\n",
    "plt.legend()\n",
    "plt.show()"
   ]
  }
 ],
 "metadata": {
  "kernelspec": {
   "display_name": "venv",
   "language": "python",
   "name": "python3"
  },
  "language_info": {
   "codemirror_mode": {
    "name": "ipython",
    "version": 3
   },
   "file_extension": ".py",
   "mimetype": "text/x-python",
   "name": "python",
   "nbconvert_exporter": "python",
   "pygments_lexer": "ipython3",
   "version": "3.9.6"
  },
  "orig_nbformat": 4
 },
 "nbformat": 4,
 "nbformat_minor": 2
}
