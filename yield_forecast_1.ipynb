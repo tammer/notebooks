{
 "cells": [
  {
   "cell_type": "code",
   "execution_count": 32,
   "metadata": {},
   "outputs": [],
   "source": [
    "import pandas as pd\n",
    "import pyarrow.parquet as pq\n",
    "import matplotlib.pyplot as plt\n",
    "import numpy as np\n",
    "import seaborn as sns\n",
    "import statsmodels.api as sm"
   ]
  },
  {
   "cell_type": "code",
   "execution_count": 33,
   "metadata": {},
   "outputs": [],
   "source": [
    "input_filename = 'data/yields.parquet'\n",
    "# load the data into a dataframe\n",
    "df = pd.read_parquet(input_filename)\n",
    "# df.head()"
   ]
  },
  {
   "cell_type": "code",
   "execution_count": 62,
   "metadata": {},
   "outputs": [
    {
     "name": "stdout",
     "output_type": "stream",
     "text": [
      "Number of rows in df: 8,401,661\n",
      "Number of rows in grouped_df: 776,522\n"
     ]
    },
    {
     "data": {
      "text/html": [
       "<div>\n",
       "<style scoped>\n",
       "    .dataframe tbody tr th:only-of-type {\n",
       "        vertical-align: middle;\n",
       "    }\n",
       "\n",
       "    .dataframe tbody tr th {\n",
       "        vertical-align: top;\n",
       "    }\n",
       "\n",
       "    .dataframe thead th {\n",
       "        text-align: right;\n",
       "    }\n",
       "</style>\n",
       "<table border=\"1\" class=\"dataframe\">\n",
       "  <thead>\n",
       "    <tr style=\"text-align: right;\">\n",
       "      <th></th>\n",
       "      <th>time</th>\n",
       "      <th>County</th>\n",
       "      <th>year</th>\n",
       "      <th>ndvi.landsat</th>\n",
       "      <th>Yield (Bu/Acre)</th>\n",
       "      <th>Acres Planted</th>\n",
       "    </tr>\n",
       "  </thead>\n",
       "  <tbody>\n",
       "    <tr>\n",
       "      <th>0</th>\n",
       "      <td>2013-03-18</td>\n",
       "      <td>COLORADO/ADAMS</td>\n",
       "      <td>2013</td>\n",
       "      <td>0.303621</td>\n",
       "      <td>27.5</td>\n",
       "      <td>153000.0</td>\n",
       "    </tr>\n",
       "    <tr>\n",
       "      <th>1</th>\n",
       "      <td>2013-03-18</td>\n",
       "      <td>COLORADO/MORGAN</td>\n",
       "      <td>2013</td>\n",
       "      <td>0.272985</td>\n",
       "      <td>36.5</td>\n",
       "      <td>55800.0</td>\n",
       "    </tr>\n",
       "    <tr>\n",
       "      <th>2</th>\n",
       "      <td>2013-03-18</td>\n",
       "      <td>COLORADO/WELD</td>\n",
       "      <td>2013</td>\n",
       "      <td>0.202855</td>\n",
       "      <td>29.5</td>\n",
       "      <td>134500.0</td>\n",
       "    </tr>\n",
       "    <tr>\n",
       "      <th>3</th>\n",
       "      <td>2013-03-18</td>\n",
       "      <td>NEBRASKA/BANNER</td>\n",
       "      <td>2013</td>\n",
       "      <td>0.198277</td>\n",
       "      <td>23.2</td>\n",
       "      <td>58200.0</td>\n",
       "    </tr>\n",
       "    <tr>\n",
       "      <th>4</th>\n",
       "      <td>2013-03-18</td>\n",
       "      <td>NEBRASKA/BOX BUTTE</td>\n",
       "      <td>2013</td>\n",
       "      <td>0.259546</td>\n",
       "      <td>51.2</td>\n",
       "      <td>110600.0</td>\n",
       "    </tr>\n",
       "  </tbody>\n",
       "</table>\n",
       "</div>"
      ],
      "text/plain": [
       "        time              County  year  ndvi.landsat  Yield (Bu/Acre)   \n",
       "0 2013-03-18      COLORADO/ADAMS  2013      0.303621             27.5  \\\n",
       "1 2013-03-18     COLORADO/MORGAN  2013      0.272985             36.5   \n",
       "2 2013-03-18       COLORADO/WELD  2013      0.202855             29.5   \n",
       "3 2013-03-18     NEBRASKA/BANNER  2013      0.198277             23.2   \n",
       "4 2013-03-18  NEBRASKA/BOX BUTTE  2013      0.259546             51.2   \n",
       "\n",
       "   Acres Planted  \n",
       "0       153000.0  \n",
       "1        55800.0  \n",
       "2       134500.0  \n",
       "3        58200.0  \n",
       "4       110600.0  "
      ]
     },
     "execution_count": 62,
     "metadata": {},
     "output_type": "execute_result"
    }
   ],
   "source": [
    "grouped_df = df.groupby(['time', 'County','year']).agg({'ndvi.landsat': 'mean', 'Yield (Bu/Acre)': 'mean', 'Acres Planted':'mean'}).reset_index()\n",
    "print(f'Number of rows in df: {len(df):,}')\n",
    "print(f'Number of rows in grouped_df: {len(grouped_df):,}')\n",
    "grouped_df.head()"
   ]
  },
  {
   "cell_type": "code",
   "execution_count": 63,
   "metadata": {},
   "outputs": [],
   "source": [
    "CUT_OFF_MONTH = 6 # use no data after June 30\n",
    "YEARS_CUT_OFF = 4 # <\n",
    "R_CUT_OFF = 0.0 # >\n",
    "grouped_df1 = grouped_df[(grouped_df['time'].dt.month < CUT_OFF_MONTH)]\n",
    "max_ndvi_idx = grouped_df1.groupby(['County','year'])['ndvi.landsat'].idxmax()\n",
    "max_ndvi_df = grouped_df1.loc[max_ndvi_idx, ['year','County','ndvi.landsat', 'Yield (Bu/Acre)', 'Acres Planted']]"
   ]
  },
  {
   "cell_type": "code",
   "execution_count": 64,
   "metadata": {},
   "outputs": [],
   "source": [
    "def getR2(county):\n",
    "    y = max_ndvi_df[max_ndvi_df['County'] == county]\n",
    "    X = sm.add_constant(y['ndvi.landsat'])\n",
    "    model = sm.OLS(y['Yield (Bu/Acre)'], X)\n",
    "    results = model.fit()\n",
    "    return results.rsquared"
   ]
  },
  {
   "cell_type": "code",
   "execution_count": 65,
   "metadata": {},
   "outputs": [],
   "source": [
    "counties = max_ndvi_df['County'].unique()\n",
    "good_counties = []\n",
    "for county in counties:\n",
    "    row_count = max_ndvi_df[max_ndvi_df['County'] == county].shape[0]\n",
    "    if row_count < YEARS_CUT_OFF:\n",
    "        continue\n",
    "#     print(row_count)\n",
    "    r2 = getR2(county)\n",
    "    if r2 > R_CUT_OFF:\n",
    "        good_counties.append(county)\n",
    "        # print(f'{county}: {r2}')\n",
    "\n",
    "# len(good_counties) "
   ]
  },
  {
   "cell_type": "code",
   "execution_count": 66,
   "metadata": {},
   "outputs": [],
   "source": [
    "subset_df = max_ndvi_df[max_ndvi_df['County'].isin(good_counties)]"
   ]
  },
  {
   "cell_type": "code",
   "execution_count": 67,
   "metadata": {},
   "outputs": [
    {
     "data": {
      "text/plain": [
       "1.3677947663381929e-12"
      ]
     },
     "execution_count": 67,
     "metadata": {},
     "output_type": "execute_result"
    }
   ],
   "source": [
    "def do_county(county):\n",
    "    y = max_ndvi_df[max_ndvi_df['County'] == county]\n",
    "    # Perform linear regression\n",
    "    X = sm.add_constant(y['ndvi.landsat'])\n",
    "    model = sm.OLS(y['Yield (Bu/Acre)'], X)\n",
    "    results = model.fit()\n",
    "    # Create a new DataFrame with additional columns\n",
    "    new_df = y.copy()\n",
    "    new_df['alpha'] = results.params[0]\n",
    "    new_df['beta'] = results.params[1]\n",
    "    new_df['r2'] = results.rsquared\n",
    "    new_df['fitted'] = results.params[0] + results.params[1] * new_df['ndvi.landsat']\n",
    "    new_df['error'] = new_df['fitted'] - new_df['Yield (Bu/Acre)']\n",
    "    return new_df\n",
    "\n",
    "\n",
    "x = []\n",
    "for county in good_counties:\n",
    "    x.append(do_county(county))\n",
    "\n",
    "final = pd.concat(x)\n",
    "sum(final['error'])"
   ]
  },
  {
   "cell_type": "code",
   "execution_count": 68,
   "metadata": {},
   "outputs": [
    {
     "name": "stdout",
     "output_type": "stream",
     "text": [
      "MAPE: 6.446881399387081\n",
      "RMS: 2.9194788276527905\n"
     ]
    },
    {
     "data": {
      "text/html": [
       "<style type=\"text/css\">\n",
       "</style>\n",
       "<table id=\"T_6af85\">\n",
       "  <thead>\n",
       "    <tr>\n",
       "      <th class=\"blank level0\" >&nbsp;</th>\n",
       "      <th id=\"T_6af85_level0_col0\" class=\"col_heading level0 col0\" >actual_harvest</th>\n",
       "      <th id=\"T_6af85_level0_col1\" class=\"col_heading level0 col1\" >fitted_harvest</th>\n",
       "      <th id=\"T_6af85_level0_col2\" class=\"col_heading level0 col2\" >Acres Planted</th>\n",
       "      <th id=\"T_6af85_level0_col3\" class=\"col_heading level0 col3\" >actual_yield</th>\n",
       "      <th id=\"T_6af85_level0_col4\" class=\"col_heading level0 col4\" >fitted_yield</th>\n",
       "      <th id=\"T_6af85_level0_col5\" class=\"col_heading level0 col5\" >error</th>\n",
       "      <th id=\"T_6af85_level0_col6\" class=\"col_heading level0 col6\" >%error</th>\n",
       "    </tr>\n",
       "    <tr>\n",
       "      <th class=\"index_name level0\" >year</th>\n",
       "      <th class=\"blank col0\" >&nbsp;</th>\n",
       "      <th class=\"blank col1\" >&nbsp;</th>\n",
       "      <th class=\"blank col2\" >&nbsp;</th>\n",
       "      <th class=\"blank col3\" >&nbsp;</th>\n",
       "      <th class=\"blank col4\" >&nbsp;</th>\n",
       "      <th class=\"blank col5\" >&nbsp;</th>\n",
       "      <th class=\"blank col6\" >&nbsp;</th>\n",
       "    </tr>\n",
       "  </thead>\n",
       "  <tbody>\n",
       "    <tr>\n",
       "      <th id=\"T_6af85_level0_row0\" class=\"row_heading level0 row0\" >2013</th>\n",
       "      <td id=\"T_6af85_row0_col0\" class=\"data row0 col0\" >914,855,390.0</td>\n",
       "      <td id=\"T_6af85_row0_col1\" class=\"data row0 col1\" >956,585,785.7</td>\n",
       "      <td id=\"T_6af85_row0_col2\" class=\"data row0 col2\" >24,448,800.0</td>\n",
       "      <td id=\"T_6af85_row0_col3\" class=\"data row0 col3\" >37.4</td>\n",
       "      <td id=\"T_6af85_row0_col4\" class=\"data row0 col4\" >39.1</td>\n",
       "      <td id=\"T_6af85_row0_col5\" class=\"data row0 col5\" >1.7</td>\n",
       "      <td id=\"T_6af85_row0_col6\" class=\"data row0 col6\" >4.6</td>\n",
       "    </tr>\n",
       "    <tr>\n",
       "      <th id=\"T_6af85_level0_row1\" class=\"row_heading level0 row1\" >2014</th>\n",
       "      <td id=\"T_6af85_row1_col0\" class=\"data row1 col0\" >847,974,010.0</td>\n",
       "      <td id=\"T_6af85_row1_col1\" class=\"data row1 col1\" >960,367,438.9</td>\n",
       "      <td id=\"T_6af85_row1_col2\" class=\"data row1 col2\" >26,014,400.0</td>\n",
       "      <td id=\"T_6af85_row1_col3\" class=\"data row1 col3\" >32.6</td>\n",
       "      <td id=\"T_6af85_row1_col4\" class=\"data row1 col4\" >36.9</td>\n",
       "      <td id=\"T_6af85_row1_col5\" class=\"data row1 col5\" >4.3</td>\n",
       "      <td id=\"T_6af85_row1_col6\" class=\"data row1 col6\" >13.3</td>\n",
       "    </tr>\n",
       "    <tr>\n",
       "      <th id=\"T_6af85_level0_row2\" class=\"row_heading level0 row2\" >2015</th>\n",
       "      <td id=\"T_6af85_row2_col0\" class=\"data row2 col0\" >939,302,090.0</td>\n",
       "      <td id=\"T_6af85_row2_col1\" class=\"data row2 col1\" >1,060,849,747.7</td>\n",
       "      <td id=\"T_6af85_row2_col2\" class=\"data row2 col2\" >25,529,600.0</td>\n",
       "      <td id=\"T_6af85_row2_col3\" class=\"data row2 col3\" >36.8</td>\n",
       "      <td id=\"T_6af85_row2_col4\" class=\"data row2 col4\" >41.6</td>\n",
       "      <td id=\"T_6af85_row2_col5\" class=\"data row2 col5\" >4.8</td>\n",
       "      <td id=\"T_6af85_row2_col6\" class=\"data row2 col6\" >12.9</td>\n",
       "    </tr>\n",
       "    <tr>\n",
       "      <th id=\"T_6af85_level0_row3\" class=\"row_heading level0 row3\" >2016</th>\n",
       "      <td id=\"T_6af85_row3_col0\" class=\"data row3 col0\" >1,173,857,580.0</td>\n",
       "      <td id=\"T_6af85_row3_col1\" class=\"data row3 col1\" >1,093,165,458.8</td>\n",
       "      <td id=\"T_6af85_row3_col2\" class=\"data row3 col2\" >23,376,500.0</td>\n",
       "      <td id=\"T_6af85_row3_col3\" class=\"data row3 col3\" >50.2</td>\n",
       "      <td id=\"T_6af85_row3_col4\" class=\"data row3 col4\" >46.8</td>\n",
       "      <td id=\"T_6af85_row3_col5\" class=\"data row3 col5\" >-3.5</td>\n",
       "      <td id=\"T_6af85_row3_col6\" class=\"data row3 col6\" >-6.9</td>\n",
       "    </tr>\n",
       "    <tr>\n",
       "      <th id=\"T_6af85_level0_row4\" class=\"row_heading level0 row4\" >2017</th>\n",
       "      <td id=\"T_6af85_row4_col0\" class=\"data row4 col0\" >886,976,530.0</td>\n",
       "      <td id=\"T_6af85_row4_col1\" class=\"data row4 col1\" >868,087,822.1</td>\n",
       "      <td id=\"T_6af85_row4_col2\" class=\"data row4 col2\" >19,755,100.0</td>\n",
       "      <td id=\"T_6af85_row4_col3\" class=\"data row4 col3\" >44.9</td>\n",
       "      <td id=\"T_6af85_row4_col4\" class=\"data row4 col4\" >43.9</td>\n",
       "      <td id=\"T_6af85_row4_col5\" class=\"data row4 col5\" >-1.0</td>\n",
       "      <td id=\"T_6af85_row4_col6\" class=\"data row4 col6\" >-2.1</td>\n",
       "    </tr>\n",
       "    <tr>\n",
       "      <th id=\"T_6af85_level0_row5\" class=\"row_heading level0 row5\" >2018</th>\n",
       "      <td id=\"T_6af85_row5_col0\" class=\"data row5 col0\" >774,187,890.0</td>\n",
       "      <td id=\"T_6af85_row5_col1\" class=\"data row5 col1\" >759,805,012.9</td>\n",
       "      <td id=\"T_6af85_row5_col2\" class=\"data row5 col2\" >18,520,700.0</td>\n",
       "      <td id=\"T_6af85_row5_col3\" class=\"data row5 col3\" >41.8</td>\n",
       "      <td id=\"T_6af85_row5_col4\" class=\"data row5 col4\" >41.0</td>\n",
       "      <td id=\"T_6af85_row5_col5\" class=\"data row5 col5\" >-0.8</td>\n",
       "      <td id=\"T_6af85_row5_col6\" class=\"data row5 col6\" >-1.9</td>\n",
       "    </tr>\n",
       "    <tr>\n",
       "      <th id=\"T_6af85_level0_row6\" class=\"row_heading level0 row6\" >2019</th>\n",
       "      <td id=\"T_6af85_row6_col0\" class=\"data row6 col0\" >871,443,340.0</td>\n",
       "      <td id=\"T_6af85_row6_col1\" class=\"data row6 col1\" >810,759,091.7</td>\n",
       "      <td id=\"T_6af85_row6_col2\" class=\"data row6 col2\" >17,917,700.0</td>\n",
       "      <td id=\"T_6af85_row6_col3\" class=\"data row6 col3\" >48.6</td>\n",
       "      <td id=\"T_6af85_row6_col4\" class=\"data row6 col4\" >45.2</td>\n",
       "      <td id=\"T_6af85_row6_col5\" class=\"data row6 col5\" >-3.4</td>\n",
       "      <td id=\"T_6af85_row6_col6\" class=\"data row6 col6\" >-7.0</td>\n",
       "    </tr>\n",
       "    <tr>\n",
       "      <th id=\"T_6af85_level0_row7\" class=\"row_heading level0 row7\" >2020</th>\n",
       "      <td id=\"T_6af85_row7_col0\" class=\"data row7 col0\" >987,388,110.0</td>\n",
       "      <td id=\"T_6af85_row7_col1\" class=\"data row7 col1\" >925,243,057.3</td>\n",
       "      <td id=\"T_6af85_row7_col2\" class=\"data row7 col2\" >21,734,700.0</td>\n",
       "      <td id=\"T_6af85_row7_col3\" class=\"data row7 col3\" >45.4</td>\n",
       "      <td id=\"T_6af85_row7_col4\" class=\"data row7 col4\" >42.6</td>\n",
       "      <td id=\"T_6af85_row7_col5\" class=\"data row7 col5\" >-2.9</td>\n",
       "      <td id=\"T_6af85_row7_col6\" class=\"data row7 col6\" >-6.3</td>\n",
       "    </tr>\n",
       "    <tr>\n",
       "      <th id=\"T_6af85_level0_row8\" class=\"row_heading level0 row8\" >2021</th>\n",
       "      <td id=\"T_6af85_row8_col0\" class=\"data row8 col0\" >828,911,710.0</td>\n",
       "      <td id=\"T_6af85_row8_col1\" class=\"data row8 col1\" >784,477,374.2</td>\n",
       "      <td id=\"T_6af85_row8_col2\" class=\"data row8 col2\" >19,502,700.0</td>\n",
       "      <td id=\"T_6af85_row8_col3\" class=\"data row8 col3\" >42.5</td>\n",
       "      <td id=\"T_6af85_row8_col4\" class=\"data row8 col4\" >40.2</td>\n",
       "      <td id=\"T_6af85_row8_col5\" class=\"data row8 col5\" >-2.3</td>\n",
       "      <td id=\"T_6af85_row8_col6\" class=\"data row8 col6\" >-5.4</td>\n",
       "    </tr>\n",
       "    <tr>\n",
       "      <th id=\"T_6af85_level0_row9\" class=\"row_heading level0 row9\" >2022</th>\n",
       "      <td id=\"T_6af85_row9_col0\" class=\"data row9 col0\" >789,428,590.0</td>\n",
       "      <td id=\"T_6af85_row9_col1\" class=\"data row9 col1\" >822,847,319.4</td>\n",
       "      <td id=\"T_6af85_row9_col2\" class=\"data row9 col2\" >20,274,100.0</td>\n",
       "      <td id=\"T_6af85_row9_col3\" class=\"data row9 col3\" >38.9</td>\n",
       "      <td id=\"T_6af85_row9_col4\" class=\"data row9 col4\" >40.6</td>\n",
       "      <td id=\"T_6af85_row9_col5\" class=\"data row9 col5\" >1.6</td>\n",
       "      <td id=\"T_6af85_row9_col6\" class=\"data row9 col6\" >4.2</td>\n",
       "    </tr>\n",
       "  </tbody>\n",
       "</table>\n"
      ],
      "text/plain": [
       "<pandas.io.formats.style.Styler at 0x12c700d00>"
      ]
     },
     "execution_count": 68,
     "metadata": {},
     "output_type": "execute_result"
    }
   ],
   "source": [
    "final['actual_harvest'] = final['Acres Planted'] * final['Yield (Bu/Acre)']\n",
    "final['fitted_harvest'] = final['Acres Planted'] * final['fitted']\n",
    "# final.head()\n",
    "\n",
    "grouped_final = final.groupby(['year']).agg({'actual_harvest':'sum', 'fitted_harvest':'sum', 'Acres Planted':'sum'})\n",
    "grouped_final['actual_yield'] = grouped_final['actual_harvest'] / grouped_final['Acres Planted']\n",
    "grouped_final['fitted_yield'] = grouped_final['fitted_harvest'] / grouped_final['Acres Planted']\n",
    "grouped_final['error'] = grouped_final['fitted_yield'] - grouped_final['actual_yield']\n",
    "grouped_final['%error'] = grouped_final['error'] / grouped_final['actual_yield'] * 100.0\n",
    "\n",
    "print(f'MAPE: {grouped_final[\"%error\"].abs().mean()}')\n",
    "print(f'RMS: {np.sqrt(np.mean(grouped_final[\"error\"] ** 2))}')\n",
    "# grouped_final.head(12)\n",
    "# show the dataframe with human readable numbers\n",
    "grouped_final.style.format('{:,.1f}')"
   ]
  },
  {
   "cell_type": "code",
   "execution_count": 69,
   "metadata": {},
   "outputs": [
    {
     "name": "stdout",
     "output_type": "stream",
     "text": [
      "R2: 0.69\n",
      "std err: 3.07\n"
     ]
    }
   ],
   "source": [
    "varE = grouped_final['error'].var()\n",
    "varY = grouped_final['actual_yield'].var()\n",
    "R2 = 1 - varE / varY\n",
    "# print R2 in human readable\n",
    "print(f'R2: {R2:.2f}')\n",
    "# print the std err\n",
    "print(f'std err: {np.sqrt(varE):.2f}')"
   ]
  },
  {
   "cell_type": "code",
   "execution_count": 70,
   "metadata": {},
   "outputs": [
    {
     "data": {
      "image/png": "[encoded data removed]",
      "text/plain": [
       "<Figure size 432x288 with 1 Axes>"
      ]
     },
     "metadata": {
      "needs_background": "light"
     },
     "output_type": "display_data"
    }
   ],
   "source": [
    "sns.regplot(x='fitted_yield', y='actual_yield', data=grouped_final,ci=None)\n",
    "plt.annotate(f\"R² = {round(grouped_final['actual_yield'].corr(grouped_final['fitted_yield'])**2, 2)}\", xy=(0.05, 0.95), xycoords='axes fraction')\n",
    "plt.title(f'Fitted vs Actual over all decent counties')\n",
    "plt.show()"
   ]
  },
  {
   "cell_type": "markdown",
   "metadata": {},
   "source": [
    "https://static.cambridge.org/binary/version/id/urn:cambridge.org:id:binary:20201222160953312-0066:S1074070820000188:S1074070820000188_tab3.png"
   ]
  }
 ],
 "metadata": {
  "kernelspec": {
   "display_name": "Python 3",
   "language": "python",
   "name": "python3"
  },
  "language_info": {
   "codemirror_mode": {
    "name": "ipython",
    "version": 3
   },
   "file_extension": ".py",
   "mimetype": "text/x-python",
   "name": "python",
   "nbconvert_exporter": "python",
   "pygments_lexer": "ipython3",
   "version": "3.9.4"
  },
  "orig_nbformat": 4
 },
 "nbformat": 4,
 "nbformat_minor": 2
}
