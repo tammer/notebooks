{
 "cells": [
  {
   "cell_type": "markdown",
   "metadata": {},
   "source": [
    "## Streambatch Package Demo\n",
    "\n",
    "Install the streambatch package:\n",
    "\n",
    "`pip install streambatch`"
   ]
  },
  {
   "cell_type": "code",
   "execution_count": null,
   "metadata": {},
   "outputs": [],
   "source": [
    "from streambatch import StreambatchConnection"
   ]
  },
  {
   "cell_type": "markdown",
   "metadata": {},
   "source": [
    "### NDVI for a single point"
   ]
  },
  {
   "cell_type": "code",
   "execution_count": null,
   "metadata": {},
   "outputs": [],
   "source": [
    "point = [3.940705,49.345238]\n",
    "\n",
    "# Connect to the Streambatch API\n",
    "api_key = open('key.txt').read().strip() \n",
    "connection = StreambatchConnection(api_key)\n",
    "\n",
    "# request an NDVI time for the point\n",
    "query_id = connection.request_ndvi(     points=[point],         \n",
    "                                        sources=['ndvi.sentinel2'], # optional, default is ndvi.streambatch\n",
    "                                        start_date='2019-01-01',    # optional, defaults to 2013-01-01\n",
    "                                        end_date='2019-12-31',      # optional, defaults to today\n",
    "                                        aggregation='median')       # optional, defaults to median"
   ]
  },
  {
   "cell_type": "code",
   "execution_count": null,
   "metadata": {},
   "outputs": [],
   "source": [
    "# get_data() will block until the data is ready\n",
    "df = connection.get_data(query_id)\n",
    "df.head()"
   ]
  },
  {
   "cell_type": "markdown",
   "metadata": {},
   "source": [
    "### NDVI for a polygon"
   ]
  },
  {
   "cell_type": "code",
   "execution_count": null,
   "metadata": {},
   "outputs": [],
   "source": [
    "some_polygon = {\n",
    "    'type': 'Polygon',\n",
    "    'coordinates': \n",
    "        [[[-94.4545917478666, 41.9792090154671], \n",
    "        [-94.4545448033213, 41.9757220431519], \n",
    "        [-94.4450066084548, 41.9757090969481], \n",
    "        [-94.4450437851949, 41.9792826686391], \n",
    "        [-94.4545917478666, 41.9792090154671]]]\n",
    "}\n",
    "\n",
    "query_id = connection.request_ndvi(polygons=[some_polygon],sources=['ndvi.sentinel2'])"
   ]
  },
  {
   "cell_type": "code",
   "execution_count": null,
   "metadata": {},
   "outputs": [],
   "source": [
    "df = connection.get_data(query_id)\n",
    "df.head()"
   ]
  }
 ],
 "metadata": {
  "kernelspec": {
   "display_name": "venv",
   "language": "python",
   "name": "python3"
  },
  "language_info": {
   "codemirror_mode": {
    "name": "ipython",
    "version": 3
   },
   "file_extension": ".py",
   "mimetype": "text/x-python",
   "name": "python",
   "nbconvert_exporter": "python",
   "pygments_lexer": "ipython3",
   "version": "3.9.6"
  },
  "orig_nbformat": 4
 },
 "nbformat": 4,
 "nbformat_minor": 2
}
