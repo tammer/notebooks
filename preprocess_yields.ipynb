{
 "cells": [
  {
   "cell_type": "markdown",
   "metadata": {},
   "source": [
    "Preprocess the data Peter provided to put it into a ready to analyze form.  save it to the file noted below"
   ]
  },
  {
   "cell_type": "code",
   "execution_count": 1,
   "metadata": {},
   "outputs": [],
   "source": [
    "output_filename = 'data/yields.parquet'"
   ]
  },
  {
   "cell_type": "code",
   "execution_count": 2,
   "metadata": {},
   "outputs": [],
   "source": [
    "import pandas as pd\n",
    "import pyarrow.parquet as pq\n",
    "import numpy as np"
   ]
  },
  {
   "cell_type": "code",
   "execution_count": 3,
   "metadata": {},
   "outputs": [
    {
     "name": "stdout",
     "output_type": "stream",
     "text": [
      "raw0: 24,395,812 rows\n"
     ]
    }
   ],
   "source": [
    "parquet_file = '~/Downloads/merged_yield_df_area_planeted_harvested_winter_wheat_marked.parquet'\n",
    "raw0 = pq.read_table(parquet_file).to_pandas()\n",
    "raw0['Acres Harvested'] = raw0['Acres Harvested'].str.replace(',', '').astype(float)\n",
    "raw0['Acres Planted'] = raw0['Acres Planted'].str.replace(',', '').astype(float)\n",
    "\n",
    "#rename columns called County as CountyName\n",
    "raw0.rename(columns={'County':'CountyName'}, inplace=True)\n",
    "# new column called County that is the concatenation of State and CountyName\n",
    "raw0['County'] = raw0['State'] + '/' + raw0['CountyName']\n",
    "# drop the columns State and CountyName\n",
    "raw0.drop(columns=['State','CountyName'], inplace=True)\n",
    "# drop county_name, county_number, state_county_code, state_code\n",
    "raw0.drop(columns=['qa.landsat','x','y','county_name','county_number','state_county_code','state_code'], inplace=True)\n",
    "\n",
    "\n",
    "\n",
    "print('raw0: {:,} rows'.format(len(raw0)))\n"
   ]
  },
  {
   "cell_type": "code",
   "execution_count": 7,
   "metadata": {},
   "outputs": [
    {
     "name": "stdout",
     "output_type": "stream",
     "text": [
      "raw1: 12,199,609 rows\n"
     ]
    }
   ],
   "source": [
    "# for each year, keep only rows where winter wheat is TRUE\n",
    "l = []\n",
    "for y in range(2013,2023):\n",
    "    mask = (raw0['year'] == y) & (raw0['is_winter_wheat_'+str(y)])\n",
    "    l.append(raw0[mask])\n",
    "raw1 = pd.concat(l).sort_values('time')\n",
    "raw1 = raw1.drop(columns=[c for c in raw1.columns if 'is_winter_wheat' in c])\n",
    "print('raw1: {:,} rows'.format(len(raw1)))"
   ]
  },
  {
   "cell_type": "code",
   "execution_count": 19,
   "metadata": {},
   "outputs": [],
   "source": [
    "drop_list = ['lat_x', 'lon_x', 'ndvi.sentinel2','qa.sentinel2','lat_y','lon_y']\n",
    "raw2 = raw1.drop(columns=drop_list)"
   ]
  },
  {
   "cell_type": "code",
   "execution_count": 20,
   "metadata": {},
   "outputs": [
    {
     "name": "stdout",
     "output_type": "stream",
     "text": [
      "raw3: 12,198,253 rows\n",
      "raw4: 10,272,407 rows\n",
      "raw5: 8,401,661 rows\n"
     ]
    }
   ],
   "source": [
    "raw3 = raw2.drop(raw2[raw2['ndvi.landsat'] > 1.0].index)\n",
    "print('raw3: {:,} rows'.format(len(raw3)))\n",
    "raw4 = raw3.dropna(subset=['ndvi.landsat'])\n",
    "print('raw4: {:,} rows'.format(len(raw4)))\n",
    "raw5 = raw4.dropna(subset=['Yield (Bu/Acre)'])\n",
    "print('raw5: {:,} rows'.format(len(raw5)))"
   ]
  },
  {
   "cell_type": "code",
   "execution_count": 22,
   "metadata": {},
   "outputs": [
    {
     "data": {
      "text/html": [
       "<div>\n",
       "<style scoped>\n",
       "    .dataframe tbody tr th:only-of-type {\n",
       "        vertical-align: middle;\n",
       "    }\n",
       "\n",
       "    .dataframe tbody tr th {\n",
       "        vertical-align: top;\n",
       "    }\n",
       "\n",
       "    .dataframe thead th {\n",
       "        text-align: right;\n",
       "    }\n",
       "</style>\n",
       "<table border=\"1\" class=\"dataframe\">\n",
       "  <thead>\n",
       "    <tr style=\"text-align: right;\">\n",
       "      <th></th>\n",
       "      <th>time</th>\n",
       "      <th>point</th>\n",
       "      <th>ndvi.landsat</th>\n",
       "      <th>year</th>\n",
       "      <th>Yield (Bu/Acre)</th>\n",
       "      <th>Acres Planted</th>\n",
       "      <th>Acres Harvested</th>\n",
       "      <th>County</th>\n",
       "    </tr>\n",
       "  </thead>\n",
       "  <tbody>\n",
       "    <tr>\n",
       "      <th>1007869</th>\n",
       "      <td>2013-03-18</td>\n",
       "      <td>417</td>\n",
       "      <td>0.198277</td>\n",
       "      <td>2013</td>\n",
       "      <td>23.2</td>\n",
       "      <td>58200.0</td>\n",
       "      <td>42700.0</td>\n",
       "      <td>NEBRASKA/BANNER</td>\n",
       "    </tr>\n",
       "    <tr>\n",
       "      <th>10561125</th>\n",
       "      <td>2013-03-18</td>\n",
       "      <td>4347</td>\n",
       "      <td>0.278712</td>\n",
       "      <td>2013</td>\n",
       "      <td>36.5</td>\n",
       "      <td>55800.0</td>\n",
       "      <td>54000.0</td>\n",
       "      <td>COLORADO/MORGAN</td>\n",
       "    </tr>\n",
       "    <tr>\n",
       "      <th>21620278</th>\n",
       "      <td>2013-03-18</td>\n",
       "      <td>8866</td>\n",
       "      <td>0.215333</td>\n",
       "      <td>2013</td>\n",
       "      <td>23.1</td>\n",
       "      <td>99800.0</td>\n",
       "      <td>86600.0</td>\n",
       "      <td>NEBRASKA/KIMBALL</td>\n",
       "    </tr>\n",
       "    <tr>\n",
       "      <th>16872384</th>\n",
       "      <td>2013-03-18</td>\n",
       "      <td>6923</td>\n",
       "      <td>0.209268</td>\n",
       "      <td>2013</td>\n",
       "      <td>23.1</td>\n",
       "      <td>99800.0</td>\n",
       "      <td>86600.0</td>\n",
       "      <td>NEBRASKA/KIMBALL</td>\n",
       "    </tr>\n",
       "    <tr>\n",
       "      <th>3073069</th>\n",
       "      <td>2013-03-18</td>\n",
       "      <td>1286</td>\n",
       "      <td>0.378128</td>\n",
       "      <td>2013</td>\n",
       "      <td>27.5</td>\n",
       "      <td>153000.0</td>\n",
       "      <td>148800.0</td>\n",
       "      <td>COLORADO/ADAMS</td>\n",
       "    </tr>\n",
       "  </tbody>\n",
       "</table>\n",
       "</div>"
      ],
      "text/plain": [
       "               time  point  ndvi.landsat  year  Yield (Bu/Acre)   \n",
       "1007869  2013-03-18    417      0.198277  2013             23.2  \\\n",
       "10561125 2013-03-18   4347      0.278712  2013             36.5   \n",
       "21620278 2013-03-18   8866      0.215333  2013             23.1   \n",
       "16872384 2013-03-18   6923      0.209268  2013             23.1   \n",
       "3073069  2013-03-18   1286      0.378128  2013             27.5   \n",
       "\n",
       "          Acres Planted  Acres Harvested            County  \n",
       "1007869         58200.0          42700.0   NEBRASKA/BANNER  \n",
       "10561125        55800.0          54000.0   COLORADO/MORGAN  \n",
       "21620278        99800.0          86600.0  NEBRASKA/KIMBALL  \n",
       "16872384        99800.0          86600.0  NEBRASKA/KIMBALL  \n",
       "3073069        153000.0         148800.0    COLORADO/ADAMS  "
      ]
     },
     "execution_count": 22,
     "metadata": {},
     "output_type": "execute_result"
    }
   ],
   "source": [
    "raw5.head()"
   ]
  },
  {
   "cell_type": "code",
   "execution_count": 23,
   "metadata": {},
   "outputs": [
    {
     "data": {
      "text/html": [
       "<div>\n",
       "<style scoped>\n",
       "    .dataframe tbody tr th:only-of-type {\n",
       "        vertical-align: middle;\n",
       "    }\n",
       "\n",
       "    .dataframe tbody tr th {\n",
       "        vertical-align: top;\n",
       "    }\n",
       "\n",
       "    .dataframe thead th {\n",
       "        text-align: right;\n",
       "    }\n",
       "</style>\n",
       "<table border=\"1\" class=\"dataframe\">\n",
       "  <thead>\n",
       "    <tr style=\"text-align: right;\">\n",
       "      <th></th>\n",
       "      <th>time</th>\n",
       "      <th>year</th>\n",
       "      <th>County</th>\n",
       "      <th>point</th>\n",
       "      <th>ndvi.landsat</th>\n",
       "      <th>Yield (Bu/Acre)</th>\n",
       "      <th>Acres Planted</th>\n",
       "      <th>Acres Harvested</th>\n",
       "    </tr>\n",
       "  </thead>\n",
       "  <tbody>\n",
       "    <tr>\n",
       "      <th>1007869</th>\n",
       "      <td>2013-03-18</td>\n",
       "      <td>2013</td>\n",
       "      <td>NEBRASKA/BANNER</td>\n",
       "      <td>417</td>\n",
       "      <td>0.198277</td>\n",
       "      <td>23.2</td>\n",
       "      <td>58200.0</td>\n",
       "      <td>42700.0</td>\n",
       "    </tr>\n",
       "    <tr>\n",
       "      <th>10561125</th>\n",
       "      <td>2013-03-18</td>\n",
       "      <td>2013</td>\n",
       "      <td>COLORADO/MORGAN</td>\n",
       "      <td>4347</td>\n",
       "      <td>0.278712</td>\n",
       "      <td>36.5</td>\n",
       "      <td>55800.0</td>\n",
       "      <td>54000.0</td>\n",
       "    </tr>\n",
       "    <tr>\n",
       "      <th>21620278</th>\n",
       "      <td>2013-03-18</td>\n",
       "      <td>2013</td>\n",
       "      <td>NEBRASKA/KIMBALL</td>\n",
       "      <td>8866</td>\n",
       "      <td>0.215333</td>\n",
       "      <td>23.1</td>\n",
       "      <td>99800.0</td>\n",
       "      <td>86600.0</td>\n",
       "    </tr>\n",
       "    <tr>\n",
       "      <th>16872384</th>\n",
       "      <td>2013-03-18</td>\n",
       "      <td>2013</td>\n",
       "      <td>NEBRASKA/KIMBALL</td>\n",
       "      <td>6923</td>\n",
       "      <td>0.209268</td>\n",
       "      <td>23.1</td>\n",
       "      <td>99800.0</td>\n",
       "      <td>86600.0</td>\n",
       "    </tr>\n",
       "    <tr>\n",
       "      <th>3073069</th>\n",
       "      <td>2013-03-18</td>\n",
       "      <td>2013</td>\n",
       "      <td>COLORADO/ADAMS</td>\n",
       "      <td>1286</td>\n",
       "      <td>0.378128</td>\n",
       "      <td>27.5</td>\n",
       "      <td>153000.0</td>\n",
       "      <td>148800.0</td>\n",
       "    </tr>\n",
       "  </tbody>\n",
       "</table>\n",
       "</div>"
      ],
      "text/plain": [
       "               time  year            County  point  ndvi.landsat   \n",
       "1007869  2013-03-18  2013   NEBRASKA/BANNER    417      0.198277  \\\n",
       "10561125 2013-03-18  2013   COLORADO/MORGAN   4347      0.278712   \n",
       "21620278 2013-03-18  2013  NEBRASKA/KIMBALL   8866      0.215333   \n",
       "16872384 2013-03-18  2013  NEBRASKA/KIMBALL   6923      0.209268   \n",
       "3073069  2013-03-18  2013    COLORADO/ADAMS   1286      0.378128   \n",
       "\n",
       "          Yield (Bu/Acre)  Acres Planted  Acres Harvested  \n",
       "1007869              23.2        58200.0          42700.0  \n",
       "10561125             36.5        55800.0          54000.0  \n",
       "21620278             23.1        99800.0          86600.0  \n",
       "16872384             23.1        99800.0          86600.0  \n",
       "3073069              27.5       153000.0         148800.0  "
      ]
     },
     "execution_count": 23,
     "metadata": {},
     "output_type": "execute_result"
    }
   ],
   "source": [
    "\n",
    "raw6 = raw5[['time','year', 'County','point','ndvi.landsat', 'Yield (Bu/Acre)','Acres Planted', 'Acres Harvested']]\n",
    "raw6.head()"
   ]
  },
  {
   "cell_type": "code",
   "execution_count": 24,
   "metadata": {},
   "outputs": [],
   "source": [
    "# save raw6 to disk\n",
    "raw6.to_parquet(output_filename)"
   ]
  },
  {
   "cell_type": "code",
   "execution_count": 25,
   "metadata": {},
   "outputs": [
    {
     "name": "stdout",
     "output_type": "stream",
     "text": [
      "Number of unique counties in 2013: 296\n",
      "Number of unique counties in 2014: 329\n",
      "Number of unique counties in 2015: 333\n",
      "Number of unique counties in 2016: 328\n",
      "Number of unique counties in 2017: 272\n",
      "Number of unique counties in 2018: 274\n",
      "Number of unique counties in 2019: 272\n",
      "Number of unique counties in 2020: 313\n",
      "Number of unique counties in 2021: 254\n",
      "Number of unique counties in 2022: 471\n",
      "Number of unique counties: 634\n"
     ]
    }
   ],
   "source": [
    "# print the number of unique Counties by year\n",
    "for y in range(2013,2023):\n",
    "    mask = (raw6['year'] == y)\n",
    "    print('Number of unique counties in {}: {:,}'.format(y, len(raw6[mask]['County'].unique())))\n",
    "    \n",
    "print('Number of unique counties: {:,}'.format(len(raw6['County'].unique())))"
   ]
  }
 ],
 "metadata": {
  "kernelspec": {
   "display_name": "myenv2",
   "language": "python",
   "name": "python3"
  },
  "language_info": {
   "codemirror_mode": {
    "name": "ipython",
    "version": 3
   },
   "file_extension": ".py",
   "mimetype": "text/x-python",
   "name": "python",
   "nbconvert_exporter": "python",
   "pygments_lexer": "ipython3",
   "version": "3.9.4"
  },
  "orig_nbformat": 4
 },
 "nbformat": 4,
 "nbformat_minor": 2
}
