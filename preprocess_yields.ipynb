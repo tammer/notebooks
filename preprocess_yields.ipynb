{
 "cells": [
  {
   "cell_type": "markdown",
   "metadata": {},
   "source": [
    "Preprocess the data Peter provided to put it into a ready to analyze form.  save it to the file noted below"
   ]
  },
  {
   "cell_type": "code",
   "execution_count": 15,
   "metadata": {},
   "outputs": [],
   "source": [
    "output_filename = 'data/yields.parquet'"
   ]
  },
  {
   "cell_type": "code",
   "execution_count": 2,
   "metadata": {},
   "outputs": [],
   "source": [
    "import pandas as pd\n",
    "import pyarrow.parquet as pq\n",
    "import matplotlib.pyplot as plt\n",
    "import numpy as np\n",
    "import seaborn as sns\n",
    "import statsmodels.api as sm"
   ]
  },
  {
   "cell_type": "code",
   "execution_count": 3,
   "metadata": {},
   "outputs": [
    {
     "name": "stdout",
     "output_type": "stream",
     "text": [
      "raw0: 24,395,812 rows\n"
     ]
    }
   ],
   "source": [
    "parquet_file = '~/Downloads/merged_yield_df_area_planeted_harvested_winter_wheat_marked.parquet'\n",
    "raw0 = pq.read_table(parquet_file).to_pandas()\n",
    "raw0['Acres Harvested'] = raw0['Acres Harvested'].str.replace(',', '').astype(float)\n",
    "raw0['Acres Planted'] = raw0['Acres Planted'].str.replace(',', '').astype(float)\n",
    "\n",
    "#rename columns called County as CountyName\n",
    "raw0.rename(columns={'County':'CountyName'}, inplace=True)\n",
    "# new column called County that is the concatenation of State and CountyName\n",
    "raw0['County'] = raw0['State'] + '/' + raw0['CountyName']\n",
    "# drop the columns State and CountyName\n",
    "raw0.drop(columns=['State','CountyName'], inplace=True)\n",
    "# drop county_name, county_number, state_county_code, state_code\n",
    "raw0.drop(columns=['qa.landsat','x','y','county_name','county_number','state_county_code','state_code'], inplace=True)\n",
    "\n",
    "\n",
    "\n",
    "print('raw0: {:,} rows'.format(len(raw0)))\n"
   ]
  },
  {
   "cell_type": "code",
   "execution_count": 4,
   "metadata": {},
   "outputs": [
    {
     "name": "stdout",
     "output_type": "stream",
     "text": [
      "raw1: 24,395,812 rows\n"
     ]
    }
   ],
   "source": [
    "# for each year, keep only rows where winter wheat is TRUE\n",
    "l = []\n",
    "for y in range(2013,2023):\n",
    "    mask = (raw0['year'] == y) & (raw0['is_winter_wheat_'+str(y)])\n",
    "    l.append(raw0[mask])\n",
    "raw1 = pd.concat(l).sort_values('time')\n",
    "raw1 = raw0.drop(columns=[c for c in raw0.columns if 'is_winter_wheat' in c])\n",
    "print('raw1: {:,} rows'.format(len(raw1)))"
   ]
  },
  {
   "cell_type": "code",
   "execution_count": 5,
   "metadata": {},
   "outputs": [],
   "source": [
    "drop_list = ['lat_x', 'lon_x', 'ndvi.sentinel2','qa.sentinel2','lat_y','lon_y','point']\n",
    "raw2 = raw1.drop(columns=drop_list)"
   ]
  },
  {
   "cell_type": "code",
   "execution_count": 6,
   "metadata": {},
   "outputs": [
    {
     "name": "stdout",
     "output_type": "stream",
     "text": [
      "raw3: 24,392,289 rows\n",
      "raw4: 20,744,556 rows\n",
      "raw5: 15,888,970 rows\n"
     ]
    }
   ],
   "source": [
    "raw3 = raw2.drop(raw2[raw2['ndvi.landsat'] > 1.0].index)\n",
    "print('raw3: {:,} rows'.format(len(raw3)))\n",
    "raw4 = raw3.dropna(subset=['ndvi.landsat'])\n",
    "print('raw4: {:,} rows'.format(len(raw4)))\n",
    "raw5 = raw4.dropna(subset=['Yield (Bu/Acre)'])\n",
    "print('raw5: {:,} rows'.format(len(raw5)))"
   ]
  },
  {
   "cell_type": "code",
   "execution_count": 7,
   "metadata": {},
   "outputs": [
    {
     "data": {
      "text/html": [
       "<div>\n",
       "<style scoped>\n",
       "    .dataframe tbody tr th:only-of-type {\n",
       "        vertical-align: middle;\n",
       "    }\n",
       "\n",
       "    .dataframe tbody tr th {\n",
       "        vertical-align: top;\n",
       "    }\n",
       "\n",
       "    .dataframe thead th {\n",
       "        text-align: right;\n",
       "    }\n",
       "</style>\n",
       "<table border=\"1\" class=\"dataframe\">\n",
       "  <thead>\n",
       "    <tr style=\"text-align: right;\">\n",
       "      <th></th>\n",
       "      <th>time</th>\n",
       "      <th>ndvi.landsat</th>\n",
       "      <th>year</th>\n",
       "      <th>Yield (Bu/Acre)</th>\n",
       "      <th>Acres Planted</th>\n",
       "      <th>Acres Harvested</th>\n",
       "      <th>County</th>\n",
       "    </tr>\n",
       "  </thead>\n",
       "  <tbody>\n",
       "    <tr>\n",
       "      <th>0</th>\n",
       "      <td>2018-03-01</td>\n",
       "      <td>0.337683</td>\n",
       "      <td>2018</td>\n",
       "      <td>20.5</td>\n",
       "      <td>42600.0</td>\n",
       "      <td>21000.0</td>\n",
       "      <td>TEXAS/COLEMAN</td>\n",
       "    </tr>\n",
       "    <tr>\n",
       "      <th>1</th>\n",
       "      <td>2018-03-02</td>\n",
       "      <td>0.337683</td>\n",
       "      <td>2018</td>\n",
       "      <td>20.5</td>\n",
       "      <td>42600.0</td>\n",
       "      <td>21000.0</td>\n",
       "      <td>TEXAS/COLEMAN</td>\n",
       "    </tr>\n",
       "    <tr>\n",
       "      <th>2</th>\n",
       "      <td>2018-03-03</td>\n",
       "      <td>0.337683</td>\n",
       "      <td>2018</td>\n",
       "      <td>20.5</td>\n",
       "      <td>42600.0</td>\n",
       "      <td>21000.0</td>\n",
       "      <td>TEXAS/COLEMAN</td>\n",
       "    </tr>\n",
       "    <tr>\n",
       "      <th>19</th>\n",
       "      <td>2018-03-20</td>\n",
       "      <td>0.364731</td>\n",
       "      <td>2018</td>\n",
       "      <td>20.5</td>\n",
       "      <td>42600.0</td>\n",
       "      <td>21000.0</td>\n",
       "      <td>TEXAS/COLEMAN</td>\n",
       "    </tr>\n",
       "    <tr>\n",
       "      <th>20</th>\n",
       "      <td>2018-03-21</td>\n",
       "      <td>0.364731</td>\n",
       "      <td>2018</td>\n",
       "      <td>20.5</td>\n",
       "      <td>42600.0</td>\n",
       "      <td>21000.0</td>\n",
       "      <td>TEXAS/COLEMAN</td>\n",
       "    </tr>\n",
       "  </tbody>\n",
       "</table>\n",
       "</div>"
      ],
      "text/plain": [
       "         time  ndvi.landsat  year  Yield (Bu/Acre)  Acres Planted   \n",
       "0  2018-03-01      0.337683  2018             20.5        42600.0  \\\n",
       "1  2018-03-02      0.337683  2018             20.5        42600.0   \n",
       "2  2018-03-03      0.337683  2018             20.5        42600.0   \n",
       "19 2018-03-20      0.364731  2018             20.5        42600.0   \n",
       "20 2018-03-21      0.364731  2018             20.5        42600.0   \n",
       "\n",
       "    Acres Harvested         County  \n",
       "0           21000.0  TEXAS/COLEMAN  \n",
       "1           21000.0  TEXAS/COLEMAN  \n",
       "2           21000.0  TEXAS/COLEMAN  \n",
       "19          21000.0  TEXAS/COLEMAN  \n",
       "20          21000.0  TEXAS/COLEMAN  "
      ]
     },
     "execution_count": 7,
     "metadata": {},
     "output_type": "execute_result"
    }
   ],
   "source": [
    "raw5.head()"
   ]
  },
  {
   "cell_type": "code",
   "execution_count": 9,
   "metadata": {},
   "outputs": [
    {
     "data": {
      "text/html": [
       "<div>\n",
       "<style scoped>\n",
       "    .dataframe tbody tr th:only-of-type {\n",
       "        vertical-align: middle;\n",
       "    }\n",
       "\n",
       "    .dataframe tbody tr th {\n",
       "        vertical-align: top;\n",
       "    }\n",
       "\n",
       "    .dataframe thead th {\n",
       "        text-align: right;\n",
       "    }\n",
       "</style>\n",
       "<table border=\"1\" class=\"dataframe\">\n",
       "  <thead>\n",
       "    <tr style=\"text-align: right;\">\n",
       "      <th></th>\n",
       "      <th>time</th>\n",
       "      <th>year</th>\n",
       "      <th>County</th>\n",
       "      <th>ndvi.landsat</th>\n",
       "      <th>Yield (Bu/Acre)</th>\n",
       "      <th>Acres Planted</th>\n",
       "      <th>Acres Harvested</th>\n",
       "    </tr>\n",
       "  </thead>\n",
       "  <tbody>\n",
       "    <tr>\n",
       "      <th>0</th>\n",
       "      <td>2018-03-01</td>\n",
       "      <td>2018</td>\n",
       "      <td>TEXAS/COLEMAN</td>\n",
       "      <td>0.337683</td>\n",
       "      <td>20.5</td>\n",
       "      <td>42600.0</td>\n",
       "      <td>21000.0</td>\n",
       "    </tr>\n",
       "    <tr>\n",
       "      <th>1</th>\n",
       "      <td>2018-03-02</td>\n",
       "      <td>2018</td>\n",
       "      <td>TEXAS/COLEMAN</td>\n",
       "      <td>0.337683</td>\n",
       "      <td>20.5</td>\n",
       "      <td>42600.0</td>\n",
       "      <td>21000.0</td>\n",
       "    </tr>\n",
       "    <tr>\n",
       "      <th>2</th>\n",
       "      <td>2018-03-03</td>\n",
       "      <td>2018</td>\n",
       "      <td>TEXAS/COLEMAN</td>\n",
       "      <td>0.337683</td>\n",
       "      <td>20.5</td>\n",
       "      <td>42600.0</td>\n",
       "      <td>21000.0</td>\n",
       "    </tr>\n",
       "    <tr>\n",
       "      <th>19</th>\n",
       "      <td>2018-03-20</td>\n",
       "      <td>2018</td>\n",
       "      <td>TEXAS/COLEMAN</td>\n",
       "      <td>0.364731</td>\n",
       "      <td>20.5</td>\n",
       "      <td>42600.0</td>\n",
       "      <td>21000.0</td>\n",
       "    </tr>\n",
       "    <tr>\n",
       "      <th>20</th>\n",
       "      <td>2018-03-21</td>\n",
       "      <td>2018</td>\n",
       "      <td>TEXAS/COLEMAN</td>\n",
       "      <td>0.364731</td>\n",
       "      <td>20.5</td>\n",
       "      <td>42600.0</td>\n",
       "      <td>21000.0</td>\n",
       "    </tr>\n",
       "  </tbody>\n",
       "</table>\n",
       "</div>"
      ],
      "text/plain": [
       "         time  year         County  ndvi.landsat  Yield (Bu/Acre)   \n",
       "0  2018-03-01  2018  TEXAS/COLEMAN      0.337683             20.5  \\\n",
       "1  2018-03-02  2018  TEXAS/COLEMAN      0.337683             20.5   \n",
       "2  2018-03-03  2018  TEXAS/COLEMAN      0.337683             20.5   \n",
       "19 2018-03-20  2018  TEXAS/COLEMAN      0.364731             20.5   \n",
       "20 2018-03-21  2018  TEXAS/COLEMAN      0.364731             20.5   \n",
       "\n",
       "    Acres Planted  Acres Harvested  \n",
       "0         42600.0          21000.0  \n",
       "1         42600.0          21000.0  \n",
       "2         42600.0          21000.0  \n",
       "19        42600.0          21000.0  \n",
       "20        42600.0          21000.0  "
      ]
     },
     "execution_count": 9,
     "metadata": {},
     "output_type": "execute_result"
    }
   ],
   "source": [
    "\n",
    "raw6 = raw5[['time','year', 'County','ndvi.landsat', 'Yield (Bu/Acre)','Acres Planted', 'Acres Harvested']]\n",
    "raw6.head()"
   ]
  },
  {
   "cell_type": "code",
   "execution_count": 16,
   "metadata": {},
   "outputs": [],
   "source": [
    "# save raw6 to disk\n",
    "raw6.to_parquet(output_filename)"
   ]
  },
  {
   "cell_type": "code",
   "execution_count": 18,
   "metadata": {},
   "outputs": [
    {
     "name": "stdout",
     "output_type": "stream",
     "text": [
      "Number of unique counties in 2013: 542\n",
      "Number of unique counties in 2014: 578\n",
      "Number of unique counties in 2015: 562\n",
      "Number of unique counties in 2016: 541\n",
      "Number of unique counties in 2017: 480\n",
      "Number of unique counties in 2018: 454\n",
      "Number of unique counties in 2019: 445\n",
      "Number of unique counties in 2020: 521\n",
      "Number of unique counties in 2021: 500\n",
      "Number of unique counties in 2022: 471\n",
      "Number of unique counties: 737\n"
     ]
    }
   ],
   "source": [
    "# print the number of unique Counties by year\n",
    "for y in range(2013,2023):\n",
    "    mask = (raw6['year'] == y)\n",
    "    print('Number of unique counties in {}: {:,}'.format(y, len(raw6[mask]['County'].unique())))\n",
    "    \n",
    "print('Number of unique counties: {:,}'.format(len(raw6['County'].unique())))"
   ]
  }
 ],
 "metadata": {
  "kernelspec": {
   "display_name": "myenv2",
   "language": "python",
   "name": "python3"
  },
  "language_info": {
   "codemirror_mode": {
    "name": "ipython",
    "version": 3
   },
   "file_extension": ".py",
   "mimetype": "text/x-python",
   "name": "python",
   "nbconvert_exporter": "python",
   "pygments_lexer": "ipython3",
   "version": "3.9.4"
  },
  "orig_nbformat": 4
 },
 "nbformat": 4,
 "nbformat_minor": 2
}
