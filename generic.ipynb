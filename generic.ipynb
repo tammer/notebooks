{
 "cells": [
  {
   "cell_type": "code",
   "execution_count": 1,
   "metadata": {},
   "outputs": [],
   "source": [
    "import requests\n",
    "import json\n",
    "import pandas as pd\n",
    "import matplotlib.pyplot as plt\n",
    "import numpy as np\n",
    "import time\n",
    "import helpers"
   ]
  },
  {
   "cell_type": "code",
   "execution_count": 2,
   "metadata": {},
   "outputs": [],
   "source": [
    "space = [[3.940705,49.345238]]\n",
    "variable = ['ndvi.modis']\n",
    "time = {\n",
    "        'start':'2015-01-01',\n",
    "        'end':'2023-08-01',\n",
    "      \t'unit':'day'\n",
    "    }"
   ]
  },
  {
   "cell_type": "code",
   "execution_count": 3,
   "metadata": {},
   "outputs": [
    {
     "data": {
      "text/plain": [
       "['bd07fbef-e14f-4f8a-b7d1-15771382c413',\n",
       " 's3://streambatch-out/bd07fbef-e14f-4f8a-b7d1-15771382c413.parquet']"
      ]
     },
     "execution_count": 3,
     "metadata": {},
     "output_type": "execute_result"
    }
   ],
   "source": [
    "# api_header = {'X-API-Key': open('key.txt').read().strip()}\n",
    "# ndvi_request = {'variable': variable, 'space': space, 'time': time }\n",
    "# response = requests.post('https://api.streambatch.io/async', json=ndvi_request, headers=api_header)\n",
    "# query_id = json.loads(response.content)['id']\n",
    "# access_url = json.loads(response.content)['access_url']\n",
    "query_id = 'bd07fbef-e14f-4f8a-b7d1-15771382c413'\n",
    "access_url =  f's3://streambatch-out/{query_id}.parquet'\n",
    "\n",
    "[query_id, access_url]"
   ]
  },
  {
   "cell_type": "code",
   "execution_count": 4,
   "metadata": {},
   "outputs": [
    {
     "name": "stdout",
     "output_type": "stream",
     "text": [
      "\n",
      "Final Status: Succeeded\n"
     ]
    }
   ],
   "source": [
    "helpers.wait_for_results(query_id)"
   ]
  },
  {
   "cell_type": "code",
   "execution_count": 5,
   "metadata": {},
   "outputs": [
    {
     "data": {
      "text/html": [
       "<div>\n",
       "<style scoped>\n",
       "    .dataframe tbody tr th:only-of-type {\n",
       "        vertical-align: middle;\n",
       "    }\n",
       "\n",
       "    .dataframe tbody tr th {\n",
       "        vertical-align: top;\n",
       "    }\n",
       "\n",
       "    .dataframe thead th {\n",
       "        text-align: right;\n",
       "    }\n",
       "</style>\n",
       "<table border=\"1\" class=\"dataframe\">\n",
       "  <thead>\n",
       "    <tr style=\"text-align: right;\">\n",
       "      <th></th>\n",
       "      <th>point</th>\n",
       "      <th>time</th>\n",
       "      <th>lat</th>\n",
       "      <th>lon</th>\n",
       "      <th>ndvi.modis</th>\n",
       "      <th>qa.modis</th>\n",
       "    </tr>\n",
       "  </thead>\n",
       "  <tbody>\n",
       "    <tr>\n",
       "      <th>0</th>\n",
       "      <td>0</td>\n",
       "      <td>2015-01-01</td>\n",
       "      <td>49.345238</td>\n",
       "      <td>3.940705</td>\n",
       "      <td>0.381074</td>\n",
       "      <td>0.0</td>\n",
       "    </tr>\n",
       "    <tr>\n",
       "      <th>1</th>\n",
       "      <td>0</td>\n",
       "      <td>2015-01-02</td>\n",
       "      <td>49.345238</td>\n",
       "      <td>3.940705</td>\n",
       "      <td>0.021521</td>\n",
       "      <td>0.0</td>\n",
       "    </tr>\n",
       "    <tr>\n",
       "      <th>2</th>\n",
       "      <td>0</td>\n",
       "      <td>2015-01-03</td>\n",
       "      <td>49.345238</td>\n",
       "      <td>3.940705</td>\n",
       "      <td>-0.020637</td>\n",
       "      <td>0.0</td>\n",
       "    </tr>\n",
       "    <tr>\n",
       "      <th>3</th>\n",
       "      <td>0</td>\n",
       "      <td>2015-01-04</td>\n",
       "      <td>49.345238</td>\n",
       "      <td>3.940705</td>\n",
       "      <td>0.132789</td>\n",
       "      <td>0.0</td>\n",
       "    </tr>\n",
       "    <tr>\n",
       "      <th>4</th>\n",
       "      <td>0</td>\n",
       "      <td>2015-01-05</td>\n",
       "      <td>49.345238</td>\n",
       "      <td>3.940705</td>\n",
       "      <td>0.029497</td>\n",
       "      <td>0.0</td>\n",
       "    </tr>\n",
       "    <tr>\n",
       "      <th>...</th>\n",
       "      <td>...</td>\n",
       "      <td>...</td>\n",
       "      <td>...</td>\n",
       "      <td>...</td>\n",
       "      <td>...</td>\n",
       "      <td>...</td>\n",
       "    </tr>\n",
       "    <tr>\n",
       "      <th>3112</th>\n",
       "      <td>0</td>\n",
       "      <td>2023-07-10</td>\n",
       "      <td>49.345238</td>\n",
       "      <td>3.940705</td>\n",
       "      <td>0.282163</td>\n",
       "      <td>0.0</td>\n",
       "    </tr>\n",
       "    <tr>\n",
       "      <th>3113</th>\n",
       "      <td>0</td>\n",
       "      <td>2023-07-11</td>\n",
       "      <td>49.345238</td>\n",
       "      <td>3.940705</td>\n",
       "      <td>0.353957</td>\n",
       "      <td>0.0</td>\n",
       "    </tr>\n",
       "    <tr>\n",
       "      <th>3114</th>\n",
       "      <td>0</td>\n",
       "      <td>2023-07-12</td>\n",
       "      <td>49.345238</td>\n",
       "      <td>3.940705</td>\n",
       "      <td>0.215704</td>\n",
       "      <td>0.0</td>\n",
       "    </tr>\n",
       "    <tr>\n",
       "      <th>3115</th>\n",
       "      <td>0</td>\n",
       "      <td>2023-07-13</td>\n",
       "      <td>49.345238</td>\n",
       "      <td>3.940705</td>\n",
       "      <td>0.289237</td>\n",
       "      <td>0.0</td>\n",
       "    </tr>\n",
       "    <tr>\n",
       "      <th>3116</th>\n",
       "      <td>0</td>\n",
       "      <td>2023-07-14</td>\n",
       "      <td>49.345238</td>\n",
       "      <td>3.940705</td>\n",
       "      <td>0.359779</td>\n",
       "      <td>0.0</td>\n",
       "    </tr>\n",
       "  </tbody>\n",
       "</table>\n",
       "<p>3117 rows × 6 columns</p>\n",
       "</div>"
      ],
      "text/plain": [
       "      point       time        lat       lon  ndvi.modis  qa.modis\n",
       "0         0 2015-01-01  49.345238  3.940705    0.381074       0.0\n",
       "1         0 2015-01-02  49.345238  3.940705    0.021521       0.0\n",
       "2         0 2015-01-03  49.345238  3.940705   -0.020637       0.0\n",
       "3         0 2015-01-04  49.345238  3.940705    0.132789       0.0\n",
       "4         0 2015-01-05  49.345238  3.940705    0.029497       0.0\n",
       "...     ...        ...        ...       ...         ...       ...\n",
       "3112      0 2023-07-10  49.345238  3.940705    0.282163       0.0\n",
       "3113      0 2023-07-11  49.345238  3.940705    0.353957       0.0\n",
       "3114      0 2023-07-12  49.345238  3.940705    0.215704       0.0\n",
       "3115      0 2023-07-13  49.345238  3.940705    0.289237       0.0\n",
       "3116      0 2023-07-14  49.345238  3.940705    0.359779       0.0\n",
       "\n",
       "[3117 rows x 6 columns]"
      ]
     },
     "execution_count": 5,
     "metadata": {},
     "output_type": "execute_result"
    }
   ],
   "source": [
    "ndvi_data = pd.read_parquet(access_url, storage_options={\"anon\": True})\n",
    "ndvi_data"
   ]
  }
 ],
 "metadata": {
  "kernelspec": {
   "display_name": "Python 3",
   "language": "python",
   "name": "python3"
  },
  "language_info": {
   "codemirror_mode": {
    "name": "ipython",
    "version": 3
   },
   "file_extension": ".py",
   "mimetype": "text/x-python",
   "name": "python",
   "nbconvert_exporter": "python",
   "pygments_lexer": "ipython3",
   "version": "3.9.4"
  },
  "orig_nbformat": 4
 },
 "nbformat": 4,
 "nbformat_minor": 2
}
