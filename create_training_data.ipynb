{
 "cells": [
  {
   "cell_type": "code",
   "execution_count": 1,
   "metadata": {},
   "outputs": [],
   "source": [
    "import pandas as pd\n",
    "file_name = 'data/qa_queries_V28.parquet'\n",
    "df = pd.read_parquet(file_name)\n",
    "df = df.sort_values(by=['lat', 'time'])\n",
    "# slice off all rows where qa.sentinel2 == 1\n",
    "s2 = df[df['qa.sentinel2'] == 1].copy()\n",
    "# remove all columns except time, lat, ndvi.sentinel2\n",
    "s2 = s2[['time', 'lat', 'ndvi.sentinel2']]\n",
    "# rename ndvi.sentinel2 to ndvi\n",
    "s2 = s2.rename(columns={'ndvi.sentinel2': 'ndvi'})\n",
    "# remove any row where ndvi is the same as the previous row\n",
    "s2 = s2[s2['ndvi'] != s2['ndvi'].shift(1)]\n",
    "\n",
    "# slice off all rows where qa.landsat8 == 1\n",
    "l8 = df[df['qa.landsat'] == 1].copy()\n",
    "# remove all columns except time, lat, ndvi.landsat\n",
    "l8 = l8[['time', 'lat', 'ndvi.landsat']]\n",
    "# rename ndvi.landsat to ndvi\n",
    "l8 = l8.rename(columns={'ndvi.landsat': 'ndvi'})\n",
    "# remove any row where ndvi is the same as the previous row\n",
    "l8 = l8[l8['ndvi'] != l8['ndvi'].shift(1)]\n",
    "# concat s2 and l8\n",
    "m = pd.concat([s2, l8])\n",
    "# sort by lat, time\n",
    "m = m.sort_values(by=['lat', 'time'])\n",
    "# reset index\n",
    "m = m.reset_index(drop=True)"
   ]
  },
  {
   "cell_type": "code",
   "execution_count": 2,
   "metadata": {},
   "outputs": [],
   "source": [
    "lats = df['lat'].unique()\n",
    "# save lats to file\n",
    "lats.tofile('data/lats.bin')\n",
    "# lats = np.fromfile('data/lats.bin', dtype=np.float64)"
   ]
  },
  {
   "cell_type": "code",
   "execution_count": 5,
   "metadata": {},
   "outputs": [],
   "source": [
    "import pandas as pd\n",
    "import numpy as np\n",
    "from scipy.signal import savgol_filter\n",
    "\n",
    "def smooth(m):\n",
    "\n",
    "    # Step 2: Create a new DataFrame 'm1' with all dates from the minimum to maximum date in 'm'\n",
    "    min_date = m[\"time\"].min()\n",
    "    max_date = m[\"time\"].max()\n",
    "    date_range = pd.date_range(min_date, max_date, freq='D')  # Create a date range with daily frequency\n",
    "    m1 = pd.DataFrame({\"time\": date_range})\n",
    "\n",
    "    # Step 3: Merge the original 'ndvi' values into the new DataFrame 'm1' using outer join\n",
    "    m1 = pd.merge(m1, m, on=\"time\", how=\"left\")\n",
    "\n",
    "    # Step 4: Interpolate missing values in the 'ndvi' column\n",
    "    m1[\"ndvi\"] = m1[\"ndvi\"].interpolate()\n",
    "\n",
    "    # Step 5: Use savgol_filter to smooth the \"ndvi\" column in 'm1'\n",
    "    window_length = 20  # Adjust the window length as needed\n",
    "    polyorder = 2  # Adjust the polynomial order as needed\n",
    "\n",
    "    # Fill missing values with NaN, so the filter doesn't treat them as zeros\n",
    "    m1[\"ndvi\"] = m1[\"ndvi\"].replace(0, np.nan)\n",
    "\n",
    "    # Apply the savgol_filter to smooth the \"ndvi\" column\n",
    "    m1[\"ndvi_smoothed\"] = savgol_filter(m1[\"ndvi\"], window_length, polyorder)\n",
    "\n",
    "    return m1\n"
   ]
  },
  {
   "cell_type": "code",
   "execution_count": 18,
   "metadata": {},
   "outputs": [],
   "source": [
    "complete = pd.DataFrame()\n",
    "for l in lats:\n",
    "    # slice off all rows where lat == l\n",
    "    ndvi_raw = m[m['lat'] == l]\n",
    "    # remove lat column\n",
    "    ndvi_raw = ndvi_raw.drop(columns=['lat'])\n",
    "    ndvi = smooth(ndvi_raw)\n",
    "    # add a column for lat\n",
    "    ndvi['lat'] = l\n",
    "    # make it the first column\n",
    "    ndvi = ndvi[['lat', 'time', 'ndvi', 'ndvi_smoothed']]\n",
    "    # concat to complete\n",
    "    complete = pd.concat([complete, ndvi])\n",
    "    \n",
    "\n",
    "# reindex complete\n",
    "complete = complete.reindex(columns=['lat', 'time', 'ndvi', 'ndvi_smoothed'])\n",
    "# if number of unique lats not equal to 22, then print error\n",
    "if len(complete['lat'].unique()) != 22:\n",
    "    print('ERROR: Number of unique lats not equal to 22')\n",
    "# save complete to file\n",
    "complete.to_parquet('data/training.parquet')\n",
    "# load it back in\n",
    "complete = pd.read_parquet('data/training.parquet')\n",
    "\n",
    "\n",
    "\n",
    "    "
   ]
  },
  {
   "cell_type": "code",
   "execution_count": null,
   "metadata": {},
   "outputs": [],
   "source": []
  }
 ],
 "metadata": {
  "kernelspec": {
   "display_name": "myenv2",
   "language": "python",
   "name": "myenv2"
  },
  "language_info": {
   "codemirror_mode": {
    "name": "ipython",
    "version": 3
   },
   "file_extension": ".py",
   "mimetype": "text/x-python",
   "name": "python",
   "nbconvert_exporter": "python",
   "pygments_lexer": "ipython3",
   "version": "3.9.17"
  },
  "orig_nbformat": 4
 },
 "nbformat": 4,
 "nbformat_minor": 2
}
