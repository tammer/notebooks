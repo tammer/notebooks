{
 "cells": [
  {
   "cell_type": "markdown",
   "metadata": {},
   "source": [
    "## Python Wrapper Prototype\n",
    "\n",
    "- I think we should have a Python wrapper for the API\n",
    "- The idea would be that users would just `pip install streambatch` and then have the REST stuff abstracted away\n",
    "- Below is prototype"
   ]
  },
  {
   "cell_type": "code",
   "execution_count": 4,
   "metadata": {},
   "outputs": [],
   "source": [
    "from streambatch_request import StreambatchRequest\n",
    "api_key = open('key.txt').read().strip() # read my API key from a file"
   ]
  },
  {
   "cell_type": "markdown",
   "metadata": {},
   "source": [
    "### Example 1\n",
    "- A simple request for data for a point\n",
    "- StreambatchRequest behaves synchronously, (it does the RESTful call and then waits for the data to be ready)\n",
    "- This makes it easy for the user"
   ]
  },
  {
   "cell_type": "code",
   "execution_count": 5,
   "metadata": {},
   "outputs": [
    {
     "name": "stdout",
     "output_type": "stream",
     "text": [
      "Number of locations: 1\n",
      "Range: 2014-01-01 - 2023-08-12, unit: day\n",
      "Query ID: fc427973-5373-4dcc-9ba1-c1cb68e578fb\n",
      "Waiting for results..................\n",
      "Ready.\n",
      "Done!\n"
     ]
    },
    {
     "data": {
      "text/html": [
       "<div>\n",
       "<style scoped>\n",
       "    .dataframe tbody tr th:only-of-type {\n",
       "        vertical-align: middle;\n",
       "    }\n",
       "\n",
       "    .dataframe tbody tr th {\n",
       "        vertical-align: top;\n",
       "    }\n",
       "\n",
       "    .dataframe thead th {\n",
       "        text-align: right;\n",
       "    }\n",
       "</style>\n",
       "<table border=\"1\" class=\"dataframe\">\n",
       "  <thead>\n",
       "    <tr style=\"text-align: right;\">\n",
       "      <th></th>\n",
       "      <th>point</th>\n",
       "      <th>time</th>\n",
       "      <th>lat</th>\n",
       "      <th>lon</th>\n",
       "      <th>ndvi.sentinel2</th>\n",
       "      <th>qa.sentinel2</th>\n",
       "    </tr>\n",
       "  </thead>\n",
       "  <tbody>\n",
       "    <tr>\n",
       "      <th>0</th>\n",
       "      <td>0</td>\n",
       "      <td>2016-11-04</td>\n",
       "      <td>49.345238</td>\n",
       "      <td>3.940705</td>\n",
       "      <td>0.008026</td>\n",
       "      <td>0.0</td>\n",
       "    </tr>\n",
       "    <tr>\n",
       "      <th>1</th>\n",
       "      <td>0</td>\n",
       "      <td>2016-11-05</td>\n",
       "      <td>49.345238</td>\n",
       "      <td>3.940705</td>\n",
       "      <td>0.008026</td>\n",
       "      <td>0.0</td>\n",
       "    </tr>\n",
       "    <tr>\n",
       "      <th>2</th>\n",
       "      <td>0</td>\n",
       "      <td>2016-11-06</td>\n",
       "      <td>49.345238</td>\n",
       "      <td>3.940705</td>\n",
       "      <td>0.008026</td>\n",
       "      <td>0.0</td>\n",
       "    </tr>\n",
       "    <tr>\n",
       "      <th>3</th>\n",
       "      <td>0</td>\n",
       "      <td>2016-11-07</td>\n",
       "      <td>49.345238</td>\n",
       "      <td>3.940705</td>\n",
       "      <td>0.023977</td>\n",
       "      <td>0.0</td>\n",
       "    </tr>\n",
       "    <tr>\n",
       "      <th>4</th>\n",
       "      <td>0</td>\n",
       "      <td>2016-11-08</td>\n",
       "      <td>49.345238</td>\n",
       "      <td>3.940705</td>\n",
       "      <td>0.023977</td>\n",
       "      <td>0.0</td>\n",
       "    </tr>\n",
       "  </tbody>\n",
       "</table>\n",
       "</div>"
      ],
      "text/plain": [
       "   point       time        lat       lon  ndvi.sentinel2  qa.sentinel2\n",
       "0      0 2016-11-04  49.345238  3.940705        0.008026           0.0\n",
       "1      0 2016-11-05  49.345238  3.940705        0.008026           0.0\n",
       "2      0 2016-11-06  49.345238  3.940705        0.008026           0.0\n",
       "3      0 2016-11-07  49.345238  3.940705        0.023977           0.0\n",
       "4      0 2016-11-08  49.345238  3.940705        0.023977           0.0"
      ]
     },
     "execution_count": 5,
     "metadata": {},
     "output_type": "execute_result"
    }
   ],
   "source": [
    "space = [3.940705,49.345238]\n",
    "request = StreambatchRequest(api_key, space)\n",
    "ndvi_data = request.get_data()\n",
    "print(\"Done!\")\n",
    "ndvi_data.head()"
   ]
  },
  {
   "cell_type": "markdown",
   "metadata": {},
   "source": [
    "### Example 2\n",
    "- By default time is set to include everything from 2013 to today, daily. But you can set yourself if you want to\n",
    "- Also, you can use the api asynchronously if you want to by setting `asyncronous=True`"
   ]
  },
  {
   "cell_type": "code",
   "execution_count": 6,
   "metadata": {},
   "outputs": [
    {
     "name": "stdout",
     "output_type": "stream",
     "text": [
      "Number of locations: 1\n",
      "Range: 2019-01-01 - 2021-08-01, unit: day\n",
      "Query ID: 3c906aeb-8c95-4b85-8d01-5e27403faccb\n",
      "..Finished!\n"
     ]
    },
    {
     "data": {
      "text/html": [
       "<div>\n",
       "<style scoped>\n",
       "    .dataframe tbody tr th:only-of-type {\n",
       "        vertical-align: middle;\n",
       "    }\n",
       "\n",
       "    .dataframe tbody tr th {\n",
       "        vertical-align: top;\n",
       "    }\n",
       "\n",
       "    .dataframe thead th {\n",
       "        text-align: right;\n",
       "    }\n",
       "</style>\n",
       "<table border=\"1\" class=\"dataframe\">\n",
       "  <thead>\n",
       "    <tr style=\"text-align: right;\">\n",
       "      <th></th>\n",
       "      <th>point</th>\n",
       "      <th>time</th>\n",
       "      <th>lat</th>\n",
       "      <th>lon</th>\n",
       "      <th>ndvi.sentinel2</th>\n",
       "      <th>qa.sentinel2</th>\n",
       "    </tr>\n",
       "  </thead>\n",
       "  <tbody>\n",
       "    <tr>\n",
       "      <th>0</th>\n",
       "      <td>0</td>\n",
       "      <td>2019-01-01</td>\n",
       "      <td>49.345238</td>\n",
       "      <td>3.940705</td>\n",
       "      <td>-0.001395</td>\n",
       "      <td>0.0</td>\n",
       "    </tr>\n",
       "    <tr>\n",
       "      <th>1</th>\n",
       "      <td>0</td>\n",
       "      <td>2019-01-02</td>\n",
       "      <td>49.345238</td>\n",
       "      <td>3.940705</td>\n",
       "      <td>-0.001395</td>\n",
       "      <td>0.0</td>\n",
       "    </tr>\n",
       "    <tr>\n",
       "      <th>2</th>\n",
       "      <td>0</td>\n",
       "      <td>2019-01-03</td>\n",
       "      <td>49.345238</td>\n",
       "      <td>3.940705</td>\n",
       "      <td>-0.000336</td>\n",
       "      <td>0.0</td>\n",
       "    </tr>\n",
       "    <tr>\n",
       "      <th>3</th>\n",
       "      <td>0</td>\n",
       "      <td>2019-01-04</td>\n",
       "      <td>49.345238</td>\n",
       "      <td>3.940705</td>\n",
       "      <td>-0.000336</td>\n",
       "      <td>0.0</td>\n",
       "    </tr>\n",
       "    <tr>\n",
       "      <th>4</th>\n",
       "      <td>0</td>\n",
       "      <td>2019-01-05</td>\n",
       "      <td>49.345238</td>\n",
       "      <td>3.940705</td>\n",
       "      <td>-0.000336</td>\n",
       "      <td>0.0</td>\n",
       "    </tr>\n",
       "  </tbody>\n",
       "</table>\n",
       "</div>"
      ],
      "text/plain": [
       "   point       time        lat       lon  ndvi.sentinel2  qa.sentinel2\n",
       "0      0 2019-01-01  49.345238  3.940705       -0.001395           0.0\n",
       "1      0 2019-01-02  49.345238  3.940705       -0.001395           0.0\n",
       "2      0 2019-01-03  49.345238  3.940705       -0.000336           0.0\n",
       "3      0 2019-01-04  49.345238  3.940705       -0.000336           0.0\n",
       "4      0 2019-01-05  49.345238  3.940705       -0.000336           0.0"
      ]
     },
     "execution_count": 6,
     "metadata": {},
     "output_type": "execute_result"
    }
   ],
   "source": [
    "import time\n",
    "space = [3.940705,49.345238]\n",
    "t = {'start':'2019-01-01','end':'2021-08-01','unit':'day'}\n",
    "request = StreambatchRequest(api_key, space, time=t, asyncronous=True)\n",
    "while request.ready() is False:\n",
    "    print('.',end=\"\",flush=True)\n",
    "    time.sleep(10)\n",
    "print(\"Finished!\")\n",
    "ndvi_data = request.get_data()\n",
    "ndvi_data.head()"
   ]
  },
  {
   "cell_type": "markdown",
   "metadata": {},
   "source": [
    "### Example 3\n",
    "- polygons"
   ]
  },
  {
   "cell_type": "code",
   "execution_count": 7,
   "metadata": {},
   "outputs": [
    {
     "name": "stdout",
     "output_type": "stream",
     "text": [
      "....\n",
      "Ready.\n"
     ]
    },
    {
     "data": {
      "text/html": [
       "<div>\n",
       "<style scoped>\n",
       "    .dataframe tbody tr th:only-of-type {\n",
       "        vertical-align: middle;\n",
       "    }\n",
       "\n",
       "    .dataframe tbody tr th {\n",
       "        vertical-align: top;\n",
       "    }\n",
       "\n",
       "    .dataframe thead th {\n",
       "        text-align: right;\n",
       "    }\n",
       "</style>\n",
       "<table border=\"1\" class=\"dataframe\">\n",
       "  <thead>\n",
       "    <tr style=\"text-align: right;\">\n",
       "      <th></th>\n",
       "      <th>location</th>\n",
       "      <th>time</th>\n",
       "      <th>polygon</th>\n",
       "      <th>ndvi.sentinel2</th>\n",
       "      <th>qa.sentinel2</th>\n",
       "    </tr>\n",
       "  </thead>\n",
       "  <tbody>\n",
       "    <tr>\n",
       "      <th>0</th>\n",
       "      <td>0</td>\n",
       "      <td>2017-01-07</td>\n",
       "      <td>POLYGON ((-94.4545917478666 41.9792090154671, ...</td>\n",
       "      <td>0.215438</td>\n",
       "      <td>1.0</td>\n",
       "    </tr>\n",
       "    <tr>\n",
       "      <th>1</th>\n",
       "      <td>0</td>\n",
       "      <td>2017-01-08</td>\n",
       "      <td>POLYGON ((-94.4545917478666 41.9792090154671, ...</td>\n",
       "      <td>0.215438</td>\n",
       "      <td>1.0</td>\n",
       "    </tr>\n",
       "    <tr>\n",
       "      <th>2</th>\n",
       "      <td>0</td>\n",
       "      <td>2017-01-09</td>\n",
       "      <td>POLYGON ((-94.4545917478666 41.9792090154671, ...</td>\n",
       "      <td>0.215438</td>\n",
       "      <td>1.0</td>\n",
       "    </tr>\n",
       "    <tr>\n",
       "      <th>3</th>\n",
       "      <td>0</td>\n",
       "      <td>2017-01-10</td>\n",
       "      <td>POLYGON ((-94.4545917478666 41.9792090154671, ...</td>\n",
       "      <td>0.215438</td>\n",
       "      <td>1.0</td>\n",
       "    </tr>\n",
       "    <tr>\n",
       "      <th>4</th>\n",
       "      <td>0</td>\n",
       "      <td>2017-01-11</td>\n",
       "      <td>POLYGON ((-94.4545917478666 41.9792090154671, ...</td>\n",
       "      <td>0.215438</td>\n",
       "      <td>1.0</td>\n",
       "    </tr>\n",
       "  </tbody>\n",
       "</table>\n",
       "</div>"
      ],
      "text/plain": [
       "   location       time                                            polygon  \\\n",
       "0         0 2017-01-07  POLYGON ((-94.4545917478666 41.9792090154671, ...   \n",
       "1         0 2017-01-08  POLYGON ((-94.4545917478666 41.9792090154671, ...   \n",
       "2         0 2017-01-09  POLYGON ((-94.4545917478666 41.9792090154671, ...   \n",
       "3         0 2017-01-10  POLYGON ((-94.4545917478666 41.9792090154671, ...   \n",
       "4         0 2017-01-11  POLYGON ((-94.4545917478666 41.9792090154671, ...   \n",
       "\n",
       "   ndvi.sentinel2  qa.sentinel2  \n",
       "0        0.215438           1.0  \n",
       "1        0.215438           1.0  \n",
       "2        0.215438           1.0  \n",
       "3        0.215438           1.0  \n",
       "4        0.215438           1.0  "
      ]
     },
     "execution_count": 7,
     "metadata": {},
     "output_type": "execute_result"
    }
   ],
   "source": [
    "space = {'type': 'Polygon',\n",
    "         'coordinates': \n",
    "                [[[-94.4545917478666, 41.9792090154671], \n",
    "                  [-94.4545448033213, 41.9757220431519], \n",
    "                  [-94.4450066084548, 41.9757090969481], \n",
    "                  [-94.4450437851949, 41.9792826686391], \n",
    "                  [-94.4545917478666, 41.9792090154671]]]\n",
    "        }\n",
    "\n",
    "request = StreambatchRequest(api_key, space,silent=True)\n",
    "ndvi_data = request.get_data()\n",
    "ndvi_data.head()"
   ]
  }
 ],
 "metadata": {
  "kernelspec": {
   "display_name": "venv",
   "language": "python",
   "name": "python3"
  },
  "language_info": {
   "codemirror_mode": {
    "name": "ipython",
    "version": 3
   },
   "file_extension": ".py",
   "mimetype": "text/x-python",
   "name": "python",
   "nbconvert_exporter": "python",
   "pygments_lexer": "ipython3",
   "version": "3.8.9"
  },
  "orig_nbformat": 4
 },
 "nbformat": 4,
 "nbformat_minor": 2
}
