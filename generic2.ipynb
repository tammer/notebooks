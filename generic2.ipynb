{
 "cells": [
  {
   "cell_type": "code",
   "execution_count": null,
   "metadata": {},
   "outputs": [],
   "source": [
    "from streambatch_data import StreambatchData\n",
    "\n",
    "api_key = open('key.txt').read().strip() # read my API key from a file\n",
    "space = [3.940705,49.345238]\n",
    "query = StreambatchData(api_key, space)\n",
    "ndvi_data = query.as_dataframe()\n",
    "ndvi_data.head()"
   ]
  }
 ],
 "metadata": {
  "language_info": {
   "name": "python"
  },
  "orig_nbformat": 4
 },
 "nbformat": 4,
 "nbformat_minor": 2
}
