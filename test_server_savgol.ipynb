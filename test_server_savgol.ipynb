{
 "cells": [
  {
   "cell_type": "code",
   "execution_count": null,
   "metadata": {},
   "outputs": [],
   "source": [
    "# import sys \n",
    "# import os\n",
    "# sys.path.append(os.path.abspath(\"/Users/tammerkamel/dev/proj/Streambatch/src/Streambatch/\"))\n",
    "# from module1 import StreambatchConnection\n",
    "\n",
    "from streambatch import StreambatchConnection"
   ]
  },
  {
   "cell_type": "code",
   "execution_count": null,
   "metadata": {},
   "outputs": [],
   "source": [
    "point = [3.940705,49.345238] # longitude, latitude\n",
    "\n",
    "# Connect to the Streambatch API\n",
    "api_key = open('key.txt').read().strip()\n",
    "connection = StreambatchConnection(api_key=api_key, use_test_api=True)\n",
    "\n",
    "# request an NDVI time for the point\n",
    "query_id1 = connection.request_ndvi(     aggregation='mean', points=[point], sources=['ndvi.streambatch_v2','ndvi.sentinel2','ndvi.landsat'])\n",
    "query_id2 = connection.request_ndvi(     aggregation='mean', points=[point], sources=['ndvi.savgol'])"
   ]
  },
  {
   "cell_type": "code",
   "execution_count": null,
   "metadata": {},
   "outputs": [],
   "source": [
    "# get_data() will block until the data is ready\n",
    "df_new = connection.get_data(query_id1)\n",
    "df_savgol = connection.get_data(query_id2)\n",
    "# df_new.tail()"
   ]
  },
  {
   "cell_type": "code",
   "execution_count": null,
   "metadata": {},
   "outputs": [],
   "source": [
    "df_s2 = df_new.copy()\n",
    "# keep only columns time ndvi.sentinel2 and qa.sentinel2\n",
    "df_s2 = df_s2[['time','ndvi.sentinel2','qa.sentinel2']]\n",
    "# keep only columns where qa.sentinel2 is 1\n",
    "df_s2 = df_s2[df_s2['qa.sentinel2']==1]\n",
    "# remove any row where ndvi.sentinel2 is the same the previous row\n",
    "df_s2 = df_s2[df_s2['ndvi.sentinel2']!=df_s2['ndvi.sentinel2'].shift()]"
   ]
  },
  {
   "cell_type": "code",
   "execution_count": null,
   "metadata": {},
   "outputs": [],
   "source": [
    "df_l8 = df_new.copy()\n",
    "# keep only columns time ndvi.landsat and qa.landsat\n",
    "df_l8 = df_l8[['time','ndvi.landsat','qa.landsat']]\n",
    "# keep only columns where qa.landsat is 1\n",
    "df_l8 = df_l8[df_l8['qa.landsat']==1]\n",
    "# remove any row where ndvi.landsat is the same the previous row\n",
    "df_l8 = df_l8[df_l8['ndvi.landsat']!=df_l8['ndvi.landsat'].shift()]"
   ]
  },
  {
   "cell_type": "code",
   "execution_count": null,
   "metadata": {},
   "outputs": [],
   "source": [
    "import matplotlib.pyplot as plt\n",
    "\n",
    "df = df_savgol.copy()\n",
    "# merge in df_new column ndvi.streambatch on time\n",
    "df = df.merge(df_new[['time','ndvi.streambatch']], on='time', how='left')\n",
    "\n",
    "\n",
    "# 2020 onwards\n",
    "df = df[df['time'] > '2020-01-01']\n",
    "df_s2 = df_s2[df_s2['time'] > '2020-01-01']\n",
    "df_l8 = df_l8[df_l8['time'] > '2020-01-01']\n",
    "\n",
    "# df['v2'] = df_new['ndvi.streambatch']\n",
    "# df['error'] = df['v2'] - df['ndvi']\n",
    "\n",
    "# plot time vs ndvi\n",
    "plt.figure(figsize=(15,5))\n",
    "plt.scatter(df['time'], df['ndvi'], label='manual savgol',s=5)\n",
    "plt.scatter(df['time'], df['ndvi.streambatch'], label='server savgol',s=5)\n",
    "plt.scatter(df_s2['time'], df_s2['ndvi.sentinel2'], label='sentinel2',s=35)\n",
    "plt.scatter(df_l8['time'], df_l8['ndvi.landsat'], label='landsat',s=35)\n",
    "plt.legend()\n",
    "plt.show()\n"
   ]
  }
 ],
 "metadata": {
  "kernelspec": {
   "display_name": "venv",
   "language": "python",
   "name": "python3"
  },
  "language_info": {
   "codemirror_mode": {
    "name": "ipython",
    "version": 3
   },
   "file_extension": ".py",
   "mimetype": "text/x-python",
   "name": "python",
   "nbconvert_exporter": "python",
   "pygments_lexer": "ipython3",
   "version": "3.9.6"
  },
  "orig_nbformat": 4
 },
 "nbformat": 4,
 "nbformat_minor": 2
}
