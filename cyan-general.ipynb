{
 "cells": [
  {
   "cell_type": "code",
   "execution_count": null,
   "metadata": {},
   "outputs": [],
   "source": [
    "import geopandas\n",
    "gdf = geopandas.read_file('data/pocndvi.shp')\n",
    "# find rows where geometry is MULTIPOLYGON\n",
    "gdf = gdf[gdf.geometry.type != 'MultiPolygon']"
   ]
  },
  {
   "cell_type": "code",
   "execution_count": null,
   "metadata": {},
   "outputs": [],
   "source": [
    "gidIds = gdf['gisId'].unique()\n",
    "\n",
    "polygons = []\n",
    "\n",
    "for gisId in gidIds:\n",
    "    mask = gdf['gisId'] == gisId\n",
    "    polygon = gdf[mask]['geometry'].__geo_interface__[\"features\"][0][\"geometry\"]\n",
    "    polygons.append(polygon)\n",
    "\n",
    "# split into two lists\n",
    "polygons1 = polygons[:len(polygons)//2]\n",
    "polygons2 = polygons[len(polygons)//2:]\n",
    "len(polygons1), len(polygons2)"
   ]
  },
  {
   "cell_type": "code",
   "execution_count": null,
   "metadata": {},
   "outputs": [],
   "source": [
    "import sys \n",
    "import os\n",
    "sys.path.append(os.path.abspath(\"/Users/tammerkamel/dev/proj/Streambatch/src/Streambatch/\"))\n",
    "from module1 import StreambatchConnection"
   ]
  },
  {
   "cell_type": "code",
   "execution_count": null,
   "metadata": {},
   "outputs": [],
   "source": [
    "connection = StreambatchConnection(open('key.txt').read().strip())\n",
    "query_id1 = connection.request_ndvi(\n",
    "            polygons=polygons1,\n",
    "            sources=['ndvi.savgol'],\n",
    "            aggregation='mean',\n",
    "            start_date='2022-01-01',\n",
    "            end_date='2023-08-31',\n",
    "            query_id='5af18e61-f3d9-4390-aa7e-f3a87f5303b3'\n",
    "            )\n",
    "\n",
    "query_id2 = connection.request_ndvi(\n",
    "            polygons=polygons2,\n",
    "            sources=['ndvi.savgol'],\n",
    "            aggregation='mean',\n",
    "            start_date='2022-01-01',\n",
    "            end_date='2023-08-31',\n",
    "            query_id='b3f4c5f3-c5c5-4a25-bdc7-ead7e5b0b417'\n",
    "            )"
   ]
  },
  {
   "cell_type": "code",
   "execution_count": null,
   "metadata": {},
   "outputs": [],
   "source": [
    "df1 = connection.get_data(query_id1)\n",
    "df2 = connection.get_data(query_id2)"
   ]
  },
  {
   "cell_type": "code",
   "execution_count": null,
   "metadata": {},
   "outputs": [],
   "source": [
    "import pandas as pd\n",
    "# split gidIds into two lists\n",
    "gidIds1 = gidIds[:len(gidIds)//2]\n",
    "gidIds2 = gidIds[len(gidIds)//2:]\n",
    "\n",
    "locations1 = df1['location']\n",
    "locations2 = df2['location']\n",
    "df1['cyan id'] = gidIds1[df1['location']]\n",
    "df2['cyan id'] = gidIds2[df2['location']]\n",
    "# remove location column\n",
    "df1 = df1.drop(columns=['location'])\n",
    "df2 = df2.drop(columns=['location'])\n",
    "# concat using pd.concat\n",
    "df = pd.concat([df1, df2], axis=0).copy()\n",
    "# make cyan id the first column\n",
    "df = df[['cyan id'] + [col for col in df.columns if col != 'cyan id']]\n",
    "# remove colmns ndvi.interpolated, ndvi.sentinel2, ndvi.landsat\n",
    "df = df.drop(columns=['ndvi.interpolated', 'ndvi.sentinel2', 'ndvi.landsat','polygon'])\n",
    "# rename column ndvi.savgol as ndvi\n",
    "df = df.rename(columns={'ndvi.savgol': 'ndvi'})\n",
    "\n",
    "# save df as parquet\n",
    "df.to_parquet('data/ndvi_for_cyan.parquet')\n",
    "\n",
    "df.head()\n",
    "\n"
   ]
  },
  {
   "cell_type": "code",
   "execution_count": null,
   "metadata": {},
   "outputs": [],
   "source": [
    "import matplotlib.pyplot as plt\n",
    "\n",
    "# for l in df['cyan id'].unique():\n",
    "for l in ['24094']:\n",
    "    df1 = df[df['cyan id'] == l]\n",
    "\n",
    "    # scatter plot time vs ndvi.savgol with s=3 point size\n",
    "    # plt.figure(figsize=(30, 15))\n",
    "\n",
    "    plt.figure(figsize=(30, 15))\n",
    "    plt.title(f'cyan id: {l}')\n",
    "    plt.rcParams.update({'font.size': 22})\n",
    "\n",
    "    plt.scatter(df1['time'], df1['ndvi'], label='savgol', s=13)\n",
    "    # plt.scatter(df1['time'], df1['ndvi.landsat'], label='landsat',s=63,color='green')\n",
    "    # plt.scatter(df1['time'], df1['ndvi.sentinel2'], label='sentinel-2',s=63,color='red')\n",
    "\n",
    "    plt.grid(True)\n",
    "    plt.ylim(0, 1.)\n",
    "\n",
    "    plt.xlabel('time')\n",
    "    plt.ylabel('ndvi')\n",
    "    plt.legend()\n",
    "\n",
    "\n",
    "\n",
    "plt.show()"
   ]
  }
 ],
 "metadata": {
  "kernelspec": {
   "display_name": "venv",
   "language": "python",
   "name": "python3"
  },
  "language_info": {
   "codemirror_mode": {
    "name": "ipython",
    "version": 3
   },
   "file_extension": ".py",
   "mimetype": "text/x-python",
   "name": "python",
   "nbconvert_exporter": "python",
   "pygments_lexer": "ipython3",
   "version": "3.8.9"
  },
  "orig_nbformat": 4
 },
 "nbformat": 4,
 "nbformat_minor": 2
}
