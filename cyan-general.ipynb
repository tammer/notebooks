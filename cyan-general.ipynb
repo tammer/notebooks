{
 "cells": [
  {
   "cell_type": "code",
   "execution_count": null,
   "metadata": {},
   "outputs": [],
   "source": [
    "import geopandas\n",
    "gdf = geopandas.read_file('data/pocndvi.shp')\n",
    "gdf.tail()"
   ]
  },
  {
   "cell_type": "code",
   "execution_count": null,
   "metadata": {},
   "outputs": [],
   "source": [
    "mask = gdf['gisId'] == '32109'\n",
    "polygon = gdf[mask]['geometry'].__geo_interface__[\"features\"][0][\"geometry\"]\n"
   ]
  },
  {
   "cell_type": "code",
   "execution_count": null,
   "metadata": {},
   "outputs": [],
   "source": [
    "import sys \n",
    "import os\n",
    "sys.path.append(os.path.abspath(\"/Users/tammerkamel/dev/proj/Streambatch/src/Streambatch/\"))\n",
    "\n",
    "from module1 import StreambatchConnection"
   ]
  },
  {
   "cell_type": "code",
   "execution_count": null,
   "metadata": {},
   "outputs": [],
   "source": [
    "connection = StreambatchConnection(open('key.txt').read().strip())\n",
    "query_id = connection.request_ndvi(\n",
    "            polygons=[polygon],\n",
    "            sources=['ndvi.savgol'],\n",
    "            aggregation='mean',\n",
    "            query_id='9e2908aa-a5c0-4822-b3d0-96bbe81d5c7b'\n",
    "            )"
   ]
  },
  {
   "cell_type": "code",
   "execution_count": null,
   "metadata": {},
   "outputs": [],
   "source": [
    "df = connection.get_data(query_id)"
   ]
  },
  {
   "cell_type": "code",
   "execution_count": null,
   "metadata": {},
   "outputs": [],
   "source": [
    "import matplotlib.pyplot as plt\n",
    "\n",
    "# slice df for the last two years\n",
    "df1 = df[(df['time'] > '2022-01-01') & (df['time'] < '2023-12-27')]\n",
    "\n",
    "# scatter plot time vs ndvi.savgol with s=3 point size\n",
    "# plt.figure(figsize=(30, 15))\n",
    "\n",
    "plt.figure(figsize=(30, 15))\n",
    "plt.rcParams.update({'font.size': 22})\n",
    "\n",
    "plt.scatter(df1['time'], df1['ndvi.savgol'], label='savgol', s=13)\n",
    "# plt.scatter(df1['time'], df1['ndvi.interpolated'], label='ndvi',s=13)\n",
    "plt.scatter(df1['time'], df1['ndvi.landsat'], label='landsat',s=63,color='green')\n",
    "plt.scatter(df1['time'], df1['ndvi.sentinel2'], label='sentinel-2',s=63,color='red')\n",
    "# labels\n",
    "\n",
    "plt.grid(True)\n",
    "plt.ylim(0, 1.)\n",
    "\n",
    "plt.xlabel('time')\n",
    "plt.ylabel('ndvi')\n",
    "plt.legend()\n",
    "\n",
    "\n",
    "\n",
    "plt.show()"
   ]
  }
 ],
 "metadata": {
  "kernelspec": {
   "display_name": "venv",
   "language": "python",
   "name": "python3"
  },
  "language_info": {
   "codemirror_mode": {
    "name": "ipython",
    "version": 3
   },
   "file_extension": ".py",
   "mimetype": "text/x-python",
   "name": "python",
   "nbconvert_exporter": "python",
   "pygments_lexer": "ipython3",
   "version": "3.9.6"
  },
  "orig_nbformat": 4
 },
 "nbformat": 4,
 "nbformat_minor": 2
}
