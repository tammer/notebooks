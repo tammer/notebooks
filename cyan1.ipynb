{
 "cells": [
  {
   "cell_type": "code",
   "execution_count": null,
   "metadata": {},
   "outputs": [],
   "source": [
    "import pandas as pd\n",
    "import numpy as np"
   ]
  },
  {
   "cell_type": "code",
   "execution_count": null,
   "metadata": {},
   "outputs": [],
   "source": [
    "file_name = 'data/cyan_ndvi_points.csv'\n",
    "df = pd.read_csv(file_name)\n",
    "# new column id is lat * lon\n",
    "df['id'] = df['lat'] * df['lon']\n",
    "# change each id into a unique integer\n",
    "df['id'] = df['id'].astype('category').cat.codes\n",
    "# convert the time column to datetime\n",
    "df['time'] = pd.to_datetime(df['time'])"
   ]
  },
  {
   "cell_type": "code",
   "execution_count": null,
   "metadata": {},
   "outputs": [],
   "source": [
    "s2 = df.copy()\n",
    "#remove rows where qa.sentinel2 is not 1\n",
    "s2 = s2[s2['qa.sentinel2'] == 1]\n",
    "# remove rows where ndvi.sentinel2 is the same as the previous row\n",
    "s2 = s2[s2['ndvi.sentinel2'] != s2['ndvi.sentinel2'].shift(1)]"
   ]
  },
  {
   "cell_type": "code",
   "execution_count": null,
   "metadata": {},
   "outputs": [],
   "source": [
    "l8 = df.copy()\n",
    "# select only rows where source.streambatch == 2.0\n",
    "l8 = l8[l8['source.streambatch'] == 2]"
   ]
  },
  {
   "cell_type": "code",
   "execution_count": null,
   "metadata": {},
   "outputs": [],
   "source": [
    "modis = df.copy()\n",
    "# select only rows where source.streambatch == 1.0\n",
    "modis = modis[modis['source.streambatch'] == 1.0]"
   ]
  },
  {
   "cell_type": "code",
   "execution_count": null,
   "metadata": {},
   "outputs": [],
   "source": [
    "import matplotlib.pyplot as plt\n",
    "\n",
    "for id in s2['id'].unique()[0:15]:\n",
    "    df = s2[s2['id'] == id]\n",
    "    df = df[df['time'] >= '2022-08-01']\n",
    "    df = df[df['time'] <= '2023-08-01']\n",
    "    l81 = l8[l8['id'] == id]\n",
    "    l81 = l81[l81['time'] >= '2022-08-01']\n",
    "    l81 = l81[l81['time'] <= '2023-08-01']\n",
    "    modis1 = modis[modis['id'] == id]\n",
    "    modis1 = modis1[modis1['time'] >= '2022-08-01']\n",
    "    modis1 = modis1[modis1['time'] <= '2023-08-01']\n",
    "\n",
    "    plt.scatter(df['time'], df['ndvi.sentinel2'],s=55,label='Sentinel2')\n",
    "    plt.scatter(l81['time'], l81['ndvi.streambatch'],s=55,label='Landsat8')\n",
    "    plt.scatter(modis1['time'], modis1['ndvi.streambatch'],s=55,label='MODIS')\n",
    "    plt.legend()\n",
    "\n",
    "    # set the title to lat and long\n",
    "    plt.title(f'NDVI for [{df[\"lat\"].values[0]}, {df[\"lon\"].values[0]}]')\n",
    "    # set figure size\n",
    "    plt.rcParams['figure.figsize'] = [20, 10]\n",
    "    # draw a verticle grid line through each date point\n",
    "    plt.vlines(df['time'].values, ymin=0, ymax=df['ndvi.sentinel2'].values, color='black', alpha=0.5)\n",
    "    # x axis should mark every month\n",
    "    plt.xticks(df['time'].values, rotation=90)\n",
    "\n",
    "    plt.show()\n",
    "    # print(df)"
   ]
  }
 ],
 "metadata": {
  "kernelspec": {
   "display_name": "venv",
   "language": "python",
   "name": "python3"
  },
  "language_info": {
   "codemirror_mode": {
    "name": "ipython",
    "version": 3
   },
   "file_extension": ".py",
   "mimetype": "text/x-python",
   "name": "python",
   "nbconvert_exporter": "python",
   "pygments_lexer": "ipython3",
   "version": "3.8.9"
  },
  "orig_nbformat": 4
 },
 "nbformat": 4,
 "nbformat_minor": 2
}
